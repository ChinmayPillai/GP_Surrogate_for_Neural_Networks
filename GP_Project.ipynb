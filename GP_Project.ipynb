{
 "cells": [
  {
   "cell_type": "code",
   "execution_count": 1,
   "metadata": {},
   "outputs": [],
   "source": [
    "import numpy as np\n",
    "import torch\n",
    "import torch.nn as nn\n",
    "import matplotlib.pyplot as plt"
   ]
  },
  {
   "cell_type": "code",
   "execution_count": 2,
   "metadata": {},
   "outputs": [],
   "source": [
    "# Neural Network Definition\n",
    "class NeuralNetwork(nn.Module):\n",
    "    def __init__(self, input_features, hidden_units=1024):\n",
    "        super(NeuralNetwork, self).__init__()\n",
    "        # self.ff = FourierFeatures(input_features, input_features*2, 4) # Double for sin and cos\n",
    "        self.fc1 = nn.Linear(input_features, hidden_units)\n",
    "        self.fc2 = nn.Linear(hidden_units, hidden_units)\n",
    "        self.fc3 = nn.Linear(hidden_units, hidden_units)\n",
    "        self.fc4 = nn.Linear(hidden_units, hidden_units)\n",
    "        self.fc_out = nn.Linear(hidden_units, 1)  # Adjust output features as necessary\n",
    "        self.relu = nn.ReLU()\n",
    "\n",
    "    def forward(self, x):\n",
    "        # x = self.ff(x)\n",
    "        x = self.relu(self.fc1(x))\n",
    "        x = self.relu(self.fc2(x))\n",
    "        x = self.relu(self.fc3(x))\n",
    "        x = self.relu(self.fc4(x))\n",
    "        return self.fc_out(x)"
   ]
  },
  {
   "cell_type": "code",
   "execution_count": 42,
   "metadata": {},
   "outputs": [],
   "source": [
    "# Training Setup\n",
    "def train(model, criterion, optimizer, data, epochs=2000, silent=False):\n",
    "    model.train()\n",
    "    for epoch in range(epochs):\n",
    "        for inputs, targets in data:\n",
    "            optimizer.zero_grad()\n",
    "            outputs = model(inputs)\n",
    "            loss = criterion(outputs, targets)\n",
    "            loss.backward()\n",
    "            optimizer.step()\n",
    "        if not silent and epoch % 100 == 0:\n",
    "            print(f'Epoch {epoch+1}, Loss: {loss.item()}')"
   ]
  },
  {
   "cell_type": "code",
   "execution_count": 4,
   "metadata": {},
   "outputs": [],
   "source": [
    "def target_function(x):\n",
    "    return torch.sin(30*(x - 0.95)**4) * torch.cos(2*(x - 0.95)) + (x - 0.95)/2"
   ]
  },
  {
   "cell_type": "code",
   "execution_count": 5,
   "metadata": {},
   "outputs": [],
   "source": [
    "# Fourier Transformation for feature layer for feature engineering\n",
    "class FourierFeatureLayer(nn.Module):\n",
    "    def __init__(self, input_dim, num_freqs=4, spectral_bias=1):\n",
    "        super(FourierFeatureLayer, self).__init__()\n",
    "        self.input_dim = input_dim\n",
    "        self.num_freqs = num_freqs\n",
    "        self.spectral_bias = spectral_bias\n",
    "        self.freqs = torch.arange(1, num_freqs + 1, dtype=torch.float32)\n",
    "        self.scale = torch.pow(self.spectral_bias, -self.freqs)\n",
    "        self.phase = torch.randn(num_freqs) * (2 * torch.pi)\n",
    "\n",
    "    def forward(self, x):\n",
    "        # Expand input to match batch size\n",
    "        batch_size = x.shape[0]\n",
    "        x = x.unsqueeze(1).repeat(1, self.num_freqs, 1)\n",
    "\n",
    "        # Compute Fourier features\n",
    "        features = torch.sin((x * self.freqs.unsqueeze(-1)) + self.phase.unsqueeze(-1))\n",
    "        features = features * self.scale.unsqueeze(-1)\n",
    "\n",
    "        return features.view(batch_size, -1)\n"
   ]
  },
  {
   "cell_type": "code",
   "execution_count": 6,
   "metadata": {},
   "outputs": [
    {
     "name": "stdout",
     "output_type": "stream",
     "text": [
      "torch.Size([100, 4])\n"
     ]
    }
   ],
   "source": [
    "# Generate random input tensor\n",
    "inputs = torch.rand(100,1)\n",
    "input_dim = 1\n",
    "fourier_layer = FourierFeatureLayer(input_dim=input_dim, num_freqs=4, spectral_bias=1)\n",
    "\n",
    "input_tensor = inputs\n",
    "\n",
    "# Apply Fourier feature layer\n",
    "output_tensor = fourier_layer(input_tensor)\n",
    "print(output_tensor.shape)  # Output shape will be (batch_size, num_freqs * input_dim)"
   ]
  },
  {
   "cell_type": "code",
   "execution_count": 7,
   "metadata": {},
   "outputs": [],
   "source": [
    "targets = target_function(inputs)"
   ]
  },
  {
   "cell_type": "code",
   "execution_count": 8,
   "metadata": {},
   "outputs": [
    {
     "data": {
      "text/plain": [
       "<matplotlib.collections.PathCollection at 0x1c15dc2a390>"
      ]
     },
     "execution_count": 8,
     "metadata": {},
     "output_type": "execute_result"
    },
    {
     "data": {
      "image/png": "[encoded data removed]",
      "text/plain": [
       "<Figure size 640x480 with 1 Axes>"
      ]
     },
     "metadata": {},
     "output_type": "display_data"
    }
   ],
   "source": [
    "plt.scatter(x=inputs, y=targets)"
   ]
  },
  {
   "cell_type": "code",
   "execution_count": 9,
   "metadata": {},
   "outputs": [
    {
     "data": {
      "text/plain": [
       "torch.Size([100, 4])"
      ]
     },
     "execution_count": 9,
     "metadata": {},
     "output_type": "execute_result"
    }
   ],
   "source": [
    "output_tensor.shape"
   ]
  },
  {
   "cell_type": "code",
   "execution_count": 10,
   "metadata": {},
   "outputs": [
    {
     "data": {
      "text/plain": [
       "torch.Size([100, 1])"
      ]
     },
     "execution_count": 10,
     "metadata": {},
     "output_type": "execute_result"
    }
   ],
   "source": [
    "targets.shape"
   ]
  },
  {
   "cell_type": "markdown",
   "metadata": {},
   "source": [
    "# Model and Training Initialization without Fourier Feature Transformation"
   ]
  },
  {
   "cell_type": "code",
   "execution_count": 11,
   "metadata": {},
   "outputs": [
    {
     "name": "stdout",
     "output_type": "stream",
     "text": [
      "Epoch 1, Loss: 0.0928926095366478\n",
      "Epoch 101, Loss: 0.08171050250530243\n",
      "Epoch 201, Loss: 0.07690571993589401\n",
      "Epoch 301, Loss: 0.07358704507350922\n",
      "Epoch 401, Loss: 0.07089266180992126\n",
      "Epoch 501, Loss: 0.06850310415029526\n",
      "Epoch 601, Loss: 0.06620283424854279\n",
      "Epoch 701, Loss: 0.06406062096357346\n",
      "Epoch 801, Loss: 0.06209548935294151\n",
      "Epoch 901, Loss: 0.06032940372824669\n",
      "Epoch 1001, Loss: 0.058713894337415695\n",
      "Epoch 1101, Loss: 0.05719370022416115\n",
      "Epoch 1201, Loss: 0.055747248232364655\n",
      "Epoch 1301, Loss: 0.05434484779834747\n",
      "Epoch 1401, Loss: 0.05305603891611099\n",
      "Epoch 1501, Loss: 0.051897406578063965\n",
      "Epoch 1601, Loss: 0.05081560090184212\n",
      "Epoch 1701, Loss: 0.049839332699775696\n",
      "Epoch 1801, Loss: 0.048943668603897095\n",
      "Epoch 1901, Loss: 0.04811856895685196\n",
      "Training completed\n"
     ]
    }
   ],
   "source": [
    "model = NeuralNetwork(input_features=1)\n",
    "criterion = nn.MSELoss()\n",
    "optimizer = torch.optim.SGD(model.parameters(), lr=1e-3)\n",
    "\n",
    "# Start training\n",
    "train(model, criterion, optimizer, [(inputs, targets)])\n",
    "\n",
    "print(\"Training completed\")"
   ]
  },
  {
   "cell_type": "markdown",
   "metadata": {},
   "source": [
    "### Training Time ~ 1 min\n",
    "100 data points with 2000 epochs"
   ]
  },
  {
   "cell_type": "code",
   "execution_count": 12,
   "metadata": {},
   "outputs": [
    {
     "data": {
      "text/plain": [
       "NeuralNetwork(\n",
       "  (fc1): Linear(in_features=1, out_features=1024, bias=True)\n",
       "  (fc2): Linear(in_features=1024, out_features=1024, bias=True)\n",
       "  (fc3): Linear(in_features=1024, out_features=1024, bias=True)\n",
       "  (fc4): Linear(in_features=1024, out_features=1024, bias=True)\n",
       "  (fc_out): Linear(in_features=1024, out_features=1, bias=True)\n",
       "  (relu): ReLU()\n",
       ")"
      ]
     },
     "execution_count": 12,
     "metadata": {},
     "output_type": "execute_result"
    }
   ],
   "source": [
    "model.eval()  # Set the model to evaluation mode"
   ]
  },
  {
   "cell_type": "markdown",
   "metadata": {},
   "source": [
    "# Model and Training Initialization with Fourier Feature Transformation"
   ]
  },
  {
   "cell_type": "code",
   "execution_count": 13,
   "metadata": {},
   "outputs": [
    {
     "name": "stdout",
     "output_type": "stream",
     "text": [
      "Epoch 1, Loss: 0.09016407281160355\n",
      "Epoch 101, Loss: 0.07660459727048874\n",
      "Epoch 201, Loss: 0.06804270297288895\n",
      "Epoch 301, Loss: 0.0616782046854496\n",
      "Epoch 401, Loss: 0.056480780243873596\n",
      "Epoch 501, Loss: 0.05212695896625519\n",
      "Epoch 601, Loss: 0.04848550260066986\n",
      "Epoch 701, Loss: 0.045445606112480164\n",
      "Epoch 801, Loss: 0.042895711958408356\n",
      "Epoch 901, Loss: 0.04072931408882141\n",
      "Epoch 1001, Loss: 0.038865529000759125\n",
      "Epoch 1101, Loss: 0.037257611751556396\n",
      "Epoch 1201, Loss: 0.03586240112781525\n",
      "Epoch 1301, Loss: 0.03463507816195488\n",
      "Epoch 1401, Loss: 0.03354102000594139\n",
      "Epoch 1501, Loss: 0.03255382180213928\n",
      "Epoch 1601, Loss: 0.031653884798288345\n",
      "Epoch 1701, Loss: 0.030823590233922005\n",
      "Epoch 1801, Loss: 0.030051372945308685\n",
      "Epoch 1901, Loss: 0.029326824471354485\n",
      "Training completed\n"
     ]
    }
   ],
   "source": [
    "# Model and Training Initialization\n",
    "model_fourier = NeuralNetwork(input_features=4)\n",
    "optimizer2 = torch.optim.SGD(model_fourier.parameters(), lr=1e-3)\n",
    "\n",
    "# Start training\n",
    "train(model_fourier, criterion, optimizer2, [(output_tensor, targets)])\n",
    "\n",
    "print(\"Training completed\")"
   ]
  },
  {
   "cell_type": "code",
   "execution_count": 14,
   "metadata": {},
   "outputs": [
    {
     "data": {
      "text/plain": [
       "NeuralNetwork(\n",
       "  (fc1): Linear(in_features=4, out_features=1024, bias=True)\n",
       "  (fc2): Linear(in_features=1024, out_features=1024, bias=True)\n",
       "  (fc3): Linear(in_features=1024, out_features=1024, bias=True)\n",
       "  (fc4): Linear(in_features=1024, out_features=1024, bias=True)\n",
       "  (fc_out): Linear(in_features=1024, out_features=1, bias=True)\n",
       "  (relu): ReLU()\n",
       ")"
      ]
     },
     "execution_count": 14,
     "metadata": {},
     "output_type": "execute_result"
    }
   ],
   "source": [
    "model_fourier.eval()  # Set the model_fourier to evaluation mode"
   ]
  },
  {
   "cell_type": "code",
   "execution_count": 15,
   "metadata": {},
   "outputs": [],
   "source": [
    "def calculate_mse(targets, predictions):\n",
    "    return ((targets - predictions) ** 2).mean()"
   ]
  },
  {
   "cell_type": "markdown",
   "metadata": {},
   "source": [
    "# Testing the Neural Network"
   ]
  },
  {
   "cell_type": "code",
   "execution_count": 16,
   "metadata": {},
   "outputs": [
    {
     "name": "stdout",
     "output_type": "stream",
     "text": [
      "torch.Size([50, 4])\n"
     ]
    }
   ],
   "source": [
    "x_test = torch.linspace(0, 1, 50).unsqueeze(1)  # Test input data\n",
    "y_test = target_function(x_test)\n",
    "\n",
    "# Apply Fourier feature layer\n",
    "x_test_fourier = fourier_layer(x_test)\n",
    "print(x_test_fourier.shape)  # Output shape will be (batch_size, num_freqs * input_dim)"
   ]
  },
  {
   "cell_type": "code",
   "execution_count": 17,
   "metadata": {},
   "outputs": [
    {
     "data": {
      "text/plain": [
       "tensor(0.0398)"
      ]
     },
     "execution_count": 17,
     "metadata": {},
     "output_type": "execute_result"
    }
   ],
   "source": [
    "# Disable gradient tracking since we're only doing inference\n",
    "with torch.no_grad():\n",
    "    # Pass the test input data through the model to get predictions\n",
    "    predictions = model(x_test)\n",
    "\n",
    "calculate_mse(y_test, predictions)"
   ]
  },
  {
   "cell_type": "code",
   "execution_count": 18,
   "metadata": {},
   "outputs": [
    {
     "data": {
      "text/plain": [
       "tensor(0.0249)"
      ]
     },
     "execution_count": 18,
     "metadata": {},
     "output_type": "execute_result"
    }
   ],
   "source": [
    "# Disable gradient tracking since we're only doing inference\n",
    "with torch.no_grad():\n",
    "    # Pass the test input data through the model to get predictions\n",
    "    predictions_fourier = model_fourier(x_test_fourier)\n",
    "\n",
    "calculate_mse(y_test, predictions_fourier)"
   ]
  },
  {
   "cell_type": "markdown",
   "metadata": {},
   "source": [
    "### Test Loss\n",
    " - Without the fourier layer - 0.0398\n",
    " - With the fourier layer - 0.0249\n",
    "\n",
    "### Conclusions\n",
    "\n",
    " 1. We can observe that adding the fourier layer betters the test loss by ~37.5% without practically adding any extra time to the training\n",
    "\n",
    " 2. Additionally we can observe that the test loss is similar to the training loss and hence we can conclude that the model isn't overfitting and is therefore generalizing well"
   ]
  },
  {
   "cell_type": "code",
   "execution_count": 19,
   "metadata": {},
   "outputs": [
    {
     "data": {
      "text/plain": [
       "<matplotlib.collections.PathCollection at 0x1c10bd44c10>"
      ]
     },
     "execution_count": 19,
     "metadata": {},
     "output_type": "execute_result"
    },
    {
     "data": {
      "image/png": "[encoded data removed]",
      "text/plain": [
       "<Figure size 640x480 with 1 Axes>"
      ]
     },
     "metadata": {},
     "output_type": "display_data"
    }
   ],
   "source": [
    "plt.scatter(x=x_test, y=predictions)"
   ]
  },
  {
   "cell_type": "code",
   "execution_count": 20,
   "metadata": {},
   "outputs": [
    {
     "data": {
      "text/plain": [
       "<matplotlib.collections.PathCollection at 0x1c10cf2cad0>"
      ]
     },
     "execution_count": 20,
     "metadata": {},
     "output_type": "execute_result"
    },
    {
     "data": {
      "image/png": "[encoded data removed]",
      "text/plain": [
       "<Figure size 640x480 with 1 Axes>"
      ]
     },
     "metadata": {},
     "output_type": "display_data"
    }
   ],
   "source": [
    "plt.scatter(x=x_test, y=predictions_fourier)"
   ]
  },
  {
   "cell_type": "markdown",
   "metadata": {},
   "source": [
    "# Predictions at each training data point\n",
    "\n",
    "We want to find difference between the test losses taking the whole data for training and leaving a certain data point out. This difference tells us how important the point is to training the model\n",
    "\n",
    "Since we observed that the test loss and trainig loss are similar and our models is generalising well, the training loss is a good indication of the expected test loss at the given points \n",
    "\n",
    "We can now observe the follwoing:\n",
    "\n",
    "Test Loss 2 - Test Loss 1 = (y_actual - y_pred_loo) - (y_actual - y_pred_whole_data) = y_pred_whole_data - y_pred_loo\n",
    "\n",
    "Hence we calculate the predictions at each of the training points to calulate the differece between the test losses"
   ]
  },
  {
   "cell_type": "code",
   "execution_count": 23,
   "metadata": {},
   "outputs": [],
   "source": [
    "with torch.no_grad():\n",
    "    predictions_whole_data = model_fourier(output_tensor)"
   ]
  },
  {
   "cell_type": "markdown",
   "metadata": {},
   "source": [
    "# Calculating the Leave-One-Out Cross-Validation predictions"
   ]
  },
  {
   "cell_type": "code",
   "execution_count": 44,
   "metadata": {},
   "outputs": [
    {
     "name": "stdout",
     "output_type": "stream",
     "text": [
      "Completed 1 iterations\n",
      "Completed 5 iterations\n",
      "Completed 9 iterations\n",
      "Completed 13 iterations\n",
      "Completed 17 iterations\n",
      "Completed 21 iterations\n",
      "Completed 25 iterations\n",
      "Completed 29 iterations\n",
      "Completed 33 iterations\n",
      "Completed 37 iterations\n",
      "Completed 41 iterations\n",
      "Completed 45 iterations\n",
      "Completed 49 iterations\n",
      "Completed 53 iterations\n",
      "Completed 57 iterations\n",
      "Completed 61 iterations\n",
      "Completed 65 iterations\n",
      "Completed 69 iterations\n",
      "Completed 73 iterations\n",
      "Completed 77 iterations\n",
      "Completed 81 iterations\n",
      "Completed 85 iterations\n",
      "Completed 89 iterations\n",
      "Completed 93 iterations\n",
      "Completed 97 iterations\n",
      "Completed 100 iterations\n"
     ]
    }
   ],
   "source": [
    "loo_preds = []\n",
    "for i in range(targets.shape[0]):\n",
    "    # Leave out the ith training example\n",
    "    X_loo = torch.cat((output_tensor[:i], output_tensor[i+1:]))\n",
    "    y_loo = torch.cat((targets[:i], targets[i+1:]))\n",
    "\n",
    "    # Train the model on the remaining points\n",
    "    model_loo = NeuralNetwork(input_features=4)\n",
    "    optimizer_loo = torch.optim.SGD(model_loo.parameters(), lr=1e-3)\n",
    "\n",
    "    # Start training\n",
    "    train(model_loo, criterion, optimizer_loo, [(X_loo, y_loo)], silent=True)\n",
    "\n",
    "    if i % 4 == 0:\n",
    "        print(f'Completed {i+1} iterations')\n",
    "\n",
    "    # Make predictions on the left out point\n",
    "    with torch.no_grad():\n",
    "        y_pred = model_loo(output_tensor[i].unsqueeze(0))\n",
    "        loo_preds.append(y_pred.item())\n",
    "\n",
    "loo_preds = np.array(loo_preds)\n",
    "print(f'Completed {targets.shape[0]} iterations')"
   ]
  },
  {
   "cell_type": "markdown",
   "metadata": {},
   "source": [
    "### LOOCV Run Time\n",
    "100-fold LOOCV took 84 min and hence around 50 seconds per fold\n"
   ]
  },
  {
   "cell_type": "code",
   "execution_count": 45,
   "metadata": {},
   "outputs": [
    {
     "name": "stdout",
     "output_type": "stream",
     "text": [
      "torch.Size([100, 1])\n",
      "(100,)\n"
     ]
    }
   ],
   "source": [
    "print(predictions_whole_data.shape)\n",
    "print(loo_preds.shape)"
   ]
  },
  {
   "cell_type": "code",
   "execution_count": 54,
   "metadata": {},
   "outputs": [
    {
     "data": {
      "text/plain": [
       "(100,)"
      ]
     },
     "execution_count": 54,
     "metadata": {},
     "output_type": "execute_result"
    }
   ],
   "source": [
    "predictions_whole_data_np = np.array(predictions_whole_data).reshape(-1)\n",
    "predictions_whole_data_np.shape"
   ]
  },
  {
   "cell_type": "markdown",
   "metadata": {},
   "source": [
    "# Calculate Error dur to missing point in training"
   ]
  },
  {
   "cell_type": "code",
   "execution_count": 55,
   "metadata": {},
   "outputs": [],
   "source": [
    "loo_error = predictions_whole_data_np - loo_preds"
   ]
  },
  {
   "cell_type": "code",
   "execution_count": 56,
   "metadata": {},
   "outputs": [
    {
     "data": {
      "text/plain": [
       "(100,)"
      ]
     },
     "execution_count": 56,
     "metadata": {},
     "output_type": "execute_result"
    }
   ],
   "source": [
    "loo_error.shape"
   ]
  },
  {
   "cell_type": "code",
   "execution_count": 67,
   "metadata": {},
   "outputs": [],
   "source": [
    "np.save('loo_error.npy', loo_error)"
   ]
  },
  {
   "cell_type": "markdown",
   "metadata": {},
   "source": [
    "# Testing out Gaussian Process Model implemnetation with Zero Mean Prior and whole dataset as training data\n",
    "\n",
    "### Important Note:\n",
    "We are utilising a Teacher-Student model for the Gaussian Process Model with the Neural Network\n",
    "\n",
    "We pass the x_test and y_pred to the Gaussian Process Model as the model trains better when we first predict using the more complex Neural Network model with higher training time and then pass its predictions as the y_train for the Gaussian Process Model"
   ]
  },
  {
   "cell_type": "code",
   "execution_count": null,
   "metadata": {},
   "outputs": [],
   "source": [
    "import gpjax as gpx\n",
    "import jax.numpy as jnp\n",
    "import jax.random as jr\n",
    "import matplotlib as mpl\n",
    "from jax import jit"
   ]
  },
  {
   "cell_type": "code",
   "execution_count": 24,
   "metadata": {},
   "outputs": [],
   "source": [
    "x_test_fourier_jax = jnp.array(x_test_fourier)\n",
    "predictions_fourier_jax = jnp.array(predictions_fourier)\n",
    "y_test_jax = jnp.array(y_test)"
   ]
  },
  {
   "cell_type": "code",
   "execution_count": 25,
   "metadata": {},
   "outputs": [],
   "source": [
    "kernel = gpx.kernels.RBF()\n",
    "meanf = gpx.mean_functions.Zero()\n",
    "prior = gpx.gps.Prior(mean_function=meanf, kernel=kernel)"
   ]
  },
  {
   "cell_type": "code",
   "execution_count": 26,
   "metadata": {},
   "outputs": [],
   "source": [
    "key = jr.key(123)\n",
    "key, subkey = jr.split(key)\n",
    "cols = mpl.rcParams[\"axes.prop_cycle\"].by_key()[\"color\"]"
   ]
  },
  {
   "cell_type": "code",
   "execution_count": 27,
   "metadata": {},
   "outputs": [
    {
     "name": "stderr",
     "output_type": "stream",
     "text": [
      "c:\\Users\\chinm\\anaconda3\\envs\\torch\\Lib\\site-packages\\cola\\backends\\backends.py:75: UserWarning: torch.utils._pytree._register_pytree_node is deprecated. Please use torch.utils._pytree.register_pytree_node instead.\n",
      "  torch.utils._pytree._register_pytree_node(cls, tree_flatten, tree_unflatten)\n",
      "c:\\Users\\chinm\\anaconda3\\envs\\torch\\Lib\\site-packages\\cola\\backends\\backends.py:75: UserWarning: torch.utils._pytree._register_pytree_node is deprecated. Please use torch.utils._pytree.register_pytree_node instead.\n",
      "  torch.utils._pytree._register_pytree_node(cls, tree_flatten, tree_unflatten)\n"
     ]
    },
    {
     "data": {
      "image/png": "[encoded data removed]",
      "text/plain": [
       "<Figure size 640x480 with 1 Axes>"
      ]
     },
     "metadata": {},
     "output_type": "display_data"
    }
   ],
   "source": [
    "prior_dist = prior.predict(x_test_fourier_jax)\n",
    "\n",
    "prior_mean = prior_dist.mean()\n",
    "prior_std = prior_dist.variance()\n",
    "samples = prior_dist.sample(seed=key, sample_shape=(20,))\n",
    "\n",
    "\n",
    "def clean_legend(ax):\n",
    "    handles, labels = ax.get_legend_handles_labels()\n",
    "    by_label = dict(zip(labels, handles))\n",
    "    ax.legend(by_label.values(), by_label.keys(), loc=\"best\")\n",
    "    return ax\n",
    "\n",
    "\n",
    "fig, ax = plt.subplots()\n",
    "ax.plot(x_test, samples.T, alpha=0.5, color=cols[0], label=\"Prior samples\")\n",
    "ax.plot(x_test, prior_mean, color=cols[1], label=\"Prior mean\")\n",
    "ax.fill_between(\n",
    "    x_test.flatten(),\n",
    "    prior_mean - prior_std,\n",
    "    prior_mean + prior_std,\n",
    "    alpha=0.3,\n",
    "    color=cols[1],\n",
    "    label=\"Prior variance\",\n",
    ")\n",
    "ax.legend(loc=\"best\")\n",
    "ax = clean_legend(ax)"
   ]
  },
  {
   "cell_type": "code",
   "execution_count": 28,
   "metadata": {},
   "outputs": [
    {
     "name": "stderr",
     "output_type": "stream",
     "text": [
      "c:\\Users\\chinm\\anaconda3\\envs\\torch\\Lib\\site-packages\\gpjax\\dataset.py:44: UserWarning: X is not of type float64. Got X.dtype=float32. This may lead to numerical instability. \n",
      "  _check_precision(self.X, self.y)\n",
      "c:\\Users\\chinm\\anaconda3\\envs\\torch\\Lib\\site-packages\\gpjax\\dataset.py:44: UserWarning: y is not of type float64.Got y.dtype=float32. This may lead to numerical instability.\n",
      "  _check_precision(self.X, self.y)\n"
     ]
    }
   ],
   "source": [
    "D = gpx.Dataset(X=x_test_fourier_jax, y=y_test_jax)\n",
    "likelihood = gpx.likelihoods.Gaussian(num_datapoints=D.n)\n",
    "posterior = prior * likelihood"
   ]
  },
  {
   "cell_type": "code",
   "execution_count": 29,
   "metadata": {},
   "outputs": [
    {
     "name": "stderr",
     "output_type": "stream",
     "text": [
      "c:\\Users\\chinm\\anaconda3\\envs\\torch\\Lib\\site-packages\\cola\\backends\\backends.py:75: UserWarning: torch.utils._pytree._register_pytree_node is deprecated. Please use torch.utils._pytree.register_pytree_node instead.\n",
      "  torch.utils._pytree._register_pytree_node(cls, tree_flatten, tree_unflatten)\n"
     ]
    },
    {
     "data": {
      "text/plain": [
       "Array(51.279022, dtype=float32)"
      ]
     },
     "execution_count": 29,
     "metadata": {},
     "output_type": "execute_result"
    }
   ],
   "source": [
    "negative_mll = gpx.objectives.ConjugateMLL(negative=True)\n",
    "negative_mll(posterior, train_data=D)"
   ]
  },
  {
   "cell_type": "code",
   "execution_count": 30,
   "metadata": {},
   "outputs": [],
   "source": [
    "negative_mll = jit(negative_mll)"
   ]
  },
  {
   "cell_type": "code",
   "execution_count": 31,
   "metadata": {},
   "outputs": [
    {
     "name": "stdout",
     "output_type": "stream",
     "text": [
      "         Current function value: -43.662838\n",
      "         Iterations: 11\n",
      "         Function evaluations: 157\n",
      "         Gradient evaluations: 144\n"
     ]
    },
    {
     "name": "stderr",
     "output_type": "stream",
     "text": [
      "c:\\Users\\chinm\\anaconda3\\envs\\torch\\Lib\\site-packages\\scipy\\optimize\\_minimize.py:708: OptimizeWarning: Desired error not necessarily achieved due to precision loss.\n",
      "  res = _minimize_bfgs(fun, x0, args, jac, callback, **options)\n"
     ]
    }
   ],
   "source": [
    "opt_posterior, history = gpx.fit_scipy(\n",
    "    model=posterior,\n",
    "    objective=negative_mll,\n",
    "    train_data=D,\n",
    ")"
   ]
  },
  {
   "cell_type": "code",
   "execution_count": 32,
   "metadata": {},
   "outputs": [
    {
     "name": "stderr",
     "output_type": "stream",
     "text": [
      "c:\\Users\\chinm\\anaconda3\\envs\\torch\\Lib\\site-packages\\cola\\backends\\backends.py:75: UserWarning: torch.utils._pytree._register_pytree_node is deprecated. Please use torch.utils._pytree.register_pytree_node instead.\n",
      "  torch.utils._pytree._register_pytree_node(cls, tree_flatten, tree_unflatten)\n"
     ]
    }
   ],
   "source": [
    "latent_dist = opt_posterior.predict(x_test_fourier_jax, train_data=D)\n",
    "predictive_dist = opt_posterior.likelihood(latent_dist)\n",
    "\n",
    "predictive_mean = predictive_dist.mean()\n",
    "predictive_std = predictive_dist.stddev()"
   ]
  },
  {
   "cell_type": "code",
   "execution_count": 33,
   "metadata": {},
   "outputs": [
    {
     "data": {
      "text/plain": [
       "<matplotlib.legend.Legend at 0x1c141967910>"
      ]
     },
     "execution_count": 33,
     "metadata": {},
     "output_type": "execute_result"
    },
    {
     "data": {
      "image/png": "[encoded data removed]",
      "text/plain": [
       "<Figure size 750x250 with 1 Axes>"
      ]
     },
     "metadata": {},
     "output_type": "display_data"
    }
   ],
   "source": [
    "fig, ax = plt.subplots(figsize=(7.5, 2.5))\n",
    "ax.plot(x_test, predictions_fourier, \"x\", label=\"Observations\", color=cols[0], alpha=0.5)\n",
    "ax.fill_between(\n",
    "    x_test.squeeze(),\n",
    "    predictive_mean - 2 * predictive_std,\n",
    "    predictive_mean + 2 * predictive_std,\n",
    "    alpha=0.2,\n",
    "    label=\"Two sigma\",\n",
    "    color=cols[1],\n",
    ")\n",
    "ax.plot(\n",
    "    x_test,\n",
    "    predictive_mean - 2 * predictive_std,\n",
    "    linestyle=\"--\",\n",
    "    linewidth=1,\n",
    "    color=cols[1],\n",
    ")\n",
    "ax.plot(\n",
    "    x_test,\n",
    "    predictive_mean + 2 * predictive_std,\n",
    "    linestyle=\"--\",\n",
    "    linewidth=1,\n",
    "    color=cols[1],\n",
    ")\n",
    "ax.plot(\n",
    "    x_test, y_test, label=\"Latent function\", color=cols[0], linestyle=\"--\", linewidth=2\n",
    ")\n",
    "ax.plot(x_test, predictive_mean, label=\"Predictive mean\", color=cols[1])\n",
    "ax.legend(loc=\"center left\", bbox_to_anchor=(0.975, 0.5))"
   ]
  },
  {
   "cell_type": "markdown",
   "metadata": {},
   "source": [
    "# Calculating the Leave-One-Out probability using GP"
   ]
  },
  {
   "cell_type": "code",
   "execution_count": 47,
   "metadata": {},
   "outputs": [
    {
     "name": "stderr",
     "output_type": "stream",
     "text": [
      "c:\\Users\\chinm\\anaconda3\\envs\\torch\\Lib\\site-packages\\gpjax\\dataset.py:44: UserWarning: X is not of type float64. Got X.dtype=float32. This may lead to numerical instability. \n",
      "  _check_precision(self.X, self.y)\n",
      "c:\\Users\\chinm\\anaconda3\\envs\\torch\\Lib\\site-packages\\gpjax\\dataset.py:44: UserWarning: y is not of type float64.Got y.dtype=float32. This may lead to numerical instability.\n",
      "  _check_precision(self.X, self.y)\n",
      "c:\\Users\\chinm\\anaconda3\\envs\\torch\\Lib\\site-packages\\scipy\\optimize\\_minimize.py:708: OptimizeWarning: Desired error not necessarily achieved due to precision loss.\n",
      "  res = _minimize_bfgs(fun, x0, args, jac, callback, **options)\n"
     ]
    },
    {
     "name": "stdout",
     "output_type": "stream",
     "text": [
      "         Current function value: -268.489838\n",
      "         Iterations: 16\n",
      "         Function evaluations: 96\n",
      "         Gradient evaluations: 84\n",
      "Completed 1 iterations\n"
     ]
    },
    {
     "name": "stderr",
     "output_type": "stream",
     "text": [
      "c:\\Users\\chinm\\anaconda3\\envs\\torch\\Lib\\site-packages\\gpjax\\dataset.py:44: UserWarning: X is not of type float64. Got X.dtype=float32. This may lead to numerical instability. \n",
      "  _check_precision(self.X, self.y)\n",
      "c:\\Users\\chinm\\anaconda3\\envs\\torch\\Lib\\site-packages\\gpjax\\dataset.py:44: UserWarning: y is not of type float64.Got y.dtype=float32. This may lead to numerical instability.\n",
      "  _check_precision(self.X, self.y)\n",
      "c:\\Users\\chinm\\anaconda3\\envs\\torch\\Lib\\site-packages\\scipy\\optimize\\_minimize.py:708: OptimizeWarning: Desired error not necessarily achieved due to precision loss.\n",
      "  res = _minimize_bfgs(fun, x0, args, jac, callback, **options)\n",
      "c:\\Users\\chinm\\anaconda3\\envs\\torch\\Lib\\site-packages\\gpjax\\dataset.py:44: UserWarning: X is not of type float64. Got X.dtype=float32. This may lead to numerical instability. \n",
      "  _check_precision(self.X, self.y)\n",
      "c:\\Users\\chinm\\anaconda3\\envs\\torch\\Lib\\site-packages\\gpjax\\dataset.py:44: UserWarning: y is not of type float64.Got y.dtype=float32. This may lead to numerical instability.\n",
      "  _check_precision(self.X, self.y)\n"
     ]
    },
    {
     "name": "stdout",
     "output_type": "stream",
     "text": [
      "         Current function value: -268.692139\n",
      "         Iterations: 24\n",
      "         Function evaluations: 133\n",
      "         Gradient evaluations: 124\n"
     ]
    },
    {
     "name": "stderr",
     "output_type": "stream",
     "text": [
      "c:\\Users\\chinm\\anaconda3\\envs\\torch\\Lib\\site-packages\\scipy\\optimize\\_minimize.py:708: OptimizeWarning: Desired error not necessarily achieved due to precision loss.\n",
      "  res = _minimize_bfgs(fun, x0, args, jac, callback, **options)\n",
      "c:\\Users\\chinm\\anaconda3\\envs\\torch\\Lib\\site-packages\\gpjax\\dataset.py:44: UserWarning: X is not of type float64. Got X.dtype=float32. This may lead to numerical instability. \n",
      "  _check_precision(self.X, self.y)\n",
      "c:\\Users\\chinm\\anaconda3\\envs\\torch\\Lib\\site-packages\\gpjax\\dataset.py:44: UserWarning: y is not of type float64.Got y.dtype=float32. This may lead to numerical instability.\n",
      "  _check_precision(self.X, self.y)\n"
     ]
    },
    {
     "name": "stdout",
     "output_type": "stream",
     "text": [
      "         Current function value: -270.389862\n",
      "         Iterations: 22\n",
      "         Function evaluations: 92\n",
      "         Gradient evaluations: 81\n"
     ]
    },
    {
     "name": "stderr",
     "output_type": "stream",
     "text": [
      "c:\\Users\\chinm\\anaconda3\\envs\\torch\\Lib\\site-packages\\scipy\\optimize\\_minimize.py:708: OptimizeWarning: Desired error not necessarily achieved due to precision loss.\n",
      "  res = _minimize_bfgs(fun, x0, args, jac, callback, **options)\n",
      "c:\\Users\\chinm\\anaconda3\\envs\\torch\\Lib\\site-packages\\gpjax\\dataset.py:44: UserWarning: X is not of type float64. Got X.dtype=float32. This may lead to numerical instability. \n",
      "  _check_precision(self.X, self.y)\n",
      "c:\\Users\\chinm\\anaconda3\\envs\\torch\\Lib\\site-packages\\gpjax\\dataset.py:44: UserWarning: y is not of type float64.Got y.dtype=float32. This may lead to numerical instability.\n",
      "  _check_precision(self.X, self.y)\n"
     ]
    },
    {
     "name": "stdout",
     "output_type": "stream",
     "text": [
      "         Current function value: -268.751495\n",
      "         Iterations: 12\n",
      "         Function evaluations: 86\n",
      "         Gradient evaluations: 77\n"
     ]
    },
    {
     "name": "stderr",
     "output_type": "stream",
     "text": [
      "c:\\Users\\chinm\\anaconda3\\envs\\torch\\Lib\\site-packages\\scipy\\optimize\\_minimize.py:708: OptimizeWarning: Desired error not necessarily achieved due to precision loss.\n",
      "  res = _minimize_bfgs(fun, x0, args, jac, callback, **options)\n",
      "c:\\Users\\chinm\\anaconda3\\envs\\torch\\Lib\\site-packages\\gpjax\\dataset.py:44: UserWarning: X is not of type float64. Got X.dtype=float32. This may lead to numerical instability. \n",
      "  _check_precision(self.X, self.y)\n",
      "c:\\Users\\chinm\\anaconda3\\envs\\torch\\Lib\\site-packages\\gpjax\\dataset.py:44: UserWarning: y is not of type float64.Got y.dtype=float32. This may lead to numerical instability.\n",
      "  _check_precision(self.X, self.y)\n"
     ]
    },
    {
     "name": "stdout",
     "output_type": "stream",
     "text": [
      "         Current function value: -268.649994\n",
      "         Iterations: 11\n",
      "         Function evaluations: 91\n",
      "         Gradient evaluations: 80\n",
      "Completed 5 iterations\n"
     ]
    },
    {
     "name": "stderr",
     "output_type": "stream",
     "text": [
      "c:\\Users\\chinm\\anaconda3\\envs\\torch\\Lib\\site-packages\\scipy\\optimize\\_minimize.py:708: OptimizeWarning: Desired error not necessarily achieved due to precision loss.\n",
      "  res = _minimize_bfgs(fun, x0, args, jac, callback, **options)\n",
      "c:\\Users\\chinm\\anaconda3\\envs\\torch\\Lib\\site-packages\\gpjax\\dataset.py:44: UserWarning: X is not of type float64. Got X.dtype=float32. This may lead to numerical instability. \n",
      "  _check_precision(self.X, self.y)\n",
      "c:\\Users\\chinm\\anaconda3\\envs\\torch\\Lib\\site-packages\\gpjax\\dataset.py:44: UserWarning: y is not of type float64.Got y.dtype=float32. This may lead to numerical instability.\n",
      "  _check_precision(self.X, self.y)\n"
     ]
    },
    {
     "name": "stdout",
     "output_type": "stream",
     "text": [
      "         Current function value: -268.820923\n",
      "         Iterations: 14\n",
      "         Function evaluations: 101\n",
      "         Gradient evaluations: 89\n"
     ]
    },
    {
     "name": "stderr",
     "output_type": "stream",
     "text": [
      "c:\\Users\\chinm\\anaconda3\\envs\\torch\\Lib\\site-packages\\scipy\\optimize\\_minimize.py:708: OptimizeWarning: Desired error not necessarily achieved due to precision loss.\n",
      "  res = _minimize_bfgs(fun, x0, args, jac, callback, **options)\n",
      "c:\\Users\\chinm\\anaconda3\\envs\\torch\\Lib\\site-packages\\gpjax\\dataset.py:44: UserWarning: X is not of type float64. Got X.dtype=float32. This may lead to numerical instability. \n",
      "  _check_precision(self.X, self.y)\n",
      "c:\\Users\\chinm\\anaconda3\\envs\\torch\\Lib\\site-packages\\gpjax\\dataset.py:44: UserWarning: y is not of type float64.Got y.dtype=float32. This may lead to numerical instability.\n",
      "  _check_precision(self.X, self.y)\n"
     ]
    },
    {
     "name": "stdout",
     "output_type": "stream",
     "text": [
      "         Current function value: -268.594818\n",
      "         Iterations: 13\n",
      "         Function evaluations: 96\n",
      "         Gradient evaluations: 85\n"
     ]
    },
    {
     "name": "stderr",
     "output_type": "stream",
     "text": [
      "c:\\Users\\chinm\\anaconda3\\envs\\torch\\Lib\\site-packages\\scipy\\optimize\\_minimize.py:708: OptimizeWarning: Desired error not necessarily achieved due to precision loss.\n",
      "  res = _minimize_bfgs(fun, x0, args, jac, callback, **options)\n",
      "c:\\Users\\chinm\\anaconda3\\envs\\torch\\Lib\\site-packages\\gpjax\\dataset.py:44: UserWarning: X is not of type float64. Got X.dtype=float32. This may lead to numerical instability. \n",
      "  _check_precision(self.X, self.y)\n",
      "c:\\Users\\chinm\\anaconda3\\envs\\torch\\Lib\\site-packages\\gpjax\\dataset.py:44: UserWarning: y is not of type float64.Got y.dtype=float32. This may lead to numerical instability.\n",
      "  _check_precision(self.X, self.y)\n"
     ]
    },
    {
     "name": "stdout",
     "output_type": "stream",
     "text": [
      "         Current function value: -268.970428\n",
      "         Iterations: 13\n",
      "         Function evaluations: 103\n",
      "         Gradient evaluations: 92\n"
     ]
    },
    {
     "name": "stderr",
     "output_type": "stream",
     "text": [
      "c:\\Users\\chinm\\anaconda3\\envs\\torch\\Lib\\site-packages\\scipy\\optimize\\_minimize.py:708: OptimizeWarning: Desired error not necessarily achieved due to precision loss.\n",
      "  res = _minimize_bfgs(fun, x0, args, jac, callback, **options)\n",
      "c:\\Users\\chinm\\anaconda3\\envs\\torch\\Lib\\site-packages\\gpjax\\dataset.py:44: UserWarning: X is not of type float64. Got X.dtype=float32. This may lead to numerical instability. \n",
      "  _check_precision(self.X, self.y)\n",
      "c:\\Users\\chinm\\anaconda3\\envs\\torch\\Lib\\site-packages\\gpjax\\dataset.py:44: UserWarning: y is not of type float64.Got y.dtype=float32. This may lead to numerical instability.\n",
      "  _check_precision(self.X, self.y)\n"
     ]
    },
    {
     "name": "stdout",
     "output_type": "stream",
     "text": [
      "         Current function value: -269.805023\n",
      "         Iterations: 15\n",
      "         Function evaluations: 100\n",
      "         Gradient evaluations: 89\n",
      "Completed 9 iterations\n"
     ]
    },
    {
     "name": "stderr",
     "output_type": "stream",
     "text": [
      "c:\\Users\\chinm\\anaconda3\\envs\\torch\\Lib\\site-packages\\scipy\\optimize\\_minimize.py:708: OptimizeWarning: Desired error not necessarily achieved due to precision loss.\n",
      "  res = _minimize_bfgs(fun, x0, args, jac, callback, **options)\n",
      "c:\\Users\\chinm\\anaconda3\\envs\\torch\\Lib\\site-packages\\gpjax\\dataset.py:44: UserWarning: X is not of type float64. Got X.dtype=float32. This may lead to numerical instability. \n",
      "  _check_precision(self.X, self.y)\n",
      "c:\\Users\\chinm\\anaconda3\\envs\\torch\\Lib\\site-packages\\gpjax\\dataset.py:44: UserWarning: y is not of type float64.Got y.dtype=float32. This may lead to numerical instability.\n",
      "  _check_precision(self.X, self.y)\n"
     ]
    },
    {
     "name": "stdout",
     "output_type": "stream",
     "text": [
      "         Current function value: -269.211731\n",
      "         Iterations: 14\n",
      "         Function evaluations: 259\n",
      "         Gradient evaluations: 231\n"
     ]
    },
    {
     "name": "stderr",
     "output_type": "stream",
     "text": [
      "c:\\Users\\chinm\\anaconda3\\envs\\torch\\Lib\\site-packages\\scipy\\optimize\\_minimize.py:708: OptimizeWarning: Desired error not necessarily achieved due to precision loss.\n",
      "  res = _minimize_bfgs(fun, x0, args, jac, callback, **options)\n",
      "c:\\Users\\chinm\\anaconda3\\envs\\torch\\Lib\\site-packages\\gpjax\\dataset.py:44: UserWarning: X is not of type float64. Got X.dtype=float32. This may lead to numerical instability. \n",
      "  _check_precision(self.X, self.y)\n",
      "c:\\Users\\chinm\\anaconda3\\envs\\torch\\Lib\\site-packages\\gpjax\\dataset.py:44: UserWarning: y is not of type float64.Got y.dtype=float32. This may lead to numerical instability.\n",
      "  _check_precision(self.X, self.y)\n"
     ]
    },
    {
     "name": "stdout",
     "output_type": "stream",
     "text": [
      "         Current function value: -268.602753\n",
      "         Iterations: 11\n",
      "         Function evaluations: 103\n",
      "         Gradient evaluations: 93\n"
     ]
    },
    {
     "name": "stderr",
     "output_type": "stream",
     "text": [
      "c:\\Users\\chinm\\anaconda3\\envs\\torch\\Lib\\site-packages\\scipy\\optimize\\_minimize.py:708: OptimizeWarning: Desired error not necessarily achieved due to precision loss.\n",
      "  res = _minimize_bfgs(fun, x0, args, jac, callback, **options)\n",
      "c:\\Users\\chinm\\anaconda3\\envs\\torch\\Lib\\site-packages\\gpjax\\dataset.py:44: UserWarning: X is not of type float64. Got X.dtype=float32. This may lead to numerical instability. \n",
      "  _check_precision(self.X, self.y)\n",
      "c:\\Users\\chinm\\anaconda3\\envs\\torch\\Lib\\site-packages\\gpjax\\dataset.py:44: UserWarning: y is not of type float64.Got y.dtype=float32. This may lead to numerical instability.\n",
      "  _check_precision(self.X, self.y)\n"
     ]
    },
    {
     "name": "stdout",
     "output_type": "stream",
     "text": [
      "         Current function value: -268.658417\n",
      "         Iterations: 31\n",
      "         Function evaluations: 206\n",
      "         Gradient evaluations: 188\n"
     ]
    },
    {
     "name": "stderr",
     "output_type": "stream",
     "text": [
      "c:\\Users\\chinm\\anaconda3\\envs\\torch\\Lib\\site-packages\\scipy\\optimize\\_minimize.py:708: OptimizeWarning: Desired error not necessarily achieved due to precision loss.\n",
      "  res = _minimize_bfgs(fun, x0, args, jac, callback, **options)\n",
      "c:\\Users\\chinm\\anaconda3\\envs\\torch\\Lib\\site-packages\\gpjax\\dataset.py:44: UserWarning: X is not of type float64. Got X.dtype=float32. This may lead to numerical instability. \n",
      "  _check_precision(self.X, self.y)\n",
      "c:\\Users\\chinm\\anaconda3\\envs\\torch\\Lib\\site-packages\\gpjax\\dataset.py:44: UserWarning: y is not of type float64.Got y.dtype=float32. This may lead to numerical instability.\n",
      "  _check_precision(self.X, self.y)\n"
     ]
    },
    {
     "name": "stdout",
     "output_type": "stream",
     "text": [
      "         Current function value: -268.496490\n",
      "         Iterations: 11\n",
      "         Function evaluations: 79\n",
      "         Gradient evaluations: 69\n",
      "Completed 13 iterations\n"
     ]
    },
    {
     "name": "stderr",
     "output_type": "stream",
     "text": [
      "c:\\Users\\chinm\\anaconda3\\envs\\torch\\Lib\\site-packages\\scipy\\optimize\\_minimize.py:708: OptimizeWarning: Desired error not necessarily achieved due to precision loss.\n",
      "  res = _minimize_bfgs(fun, x0, args, jac, callback, **options)\n",
      "c:\\Users\\chinm\\anaconda3\\envs\\torch\\Lib\\site-packages\\gpjax\\dataset.py:44: UserWarning: X is not of type float64. Got X.dtype=float32. This may lead to numerical instability. \n",
      "  _check_precision(self.X, self.y)\n",
      "c:\\Users\\chinm\\anaconda3\\envs\\torch\\Lib\\site-packages\\gpjax\\dataset.py:44: UserWarning: y is not of type float64.Got y.dtype=float32. This may lead to numerical instability.\n",
      "  _check_precision(self.X, self.y)\n"
     ]
    },
    {
     "name": "stdout",
     "output_type": "stream",
     "text": [
      "         Current function value: -268.495331\n",
      "         Iterations: 16\n",
      "         Function evaluations: 89\n",
      "         Gradient evaluations: 79\n"
     ]
    },
    {
     "name": "stderr",
     "output_type": "stream",
     "text": [
      "c:\\Users\\chinm\\anaconda3\\envs\\torch\\Lib\\site-packages\\scipy\\optimize\\_minimize.py:708: OptimizeWarning: Desired error not necessarily achieved due to precision loss.\n",
      "  res = _minimize_bfgs(fun, x0, args, jac, callback, **options)\n",
      "c:\\Users\\chinm\\anaconda3\\envs\\torch\\Lib\\site-packages\\gpjax\\dataset.py:44: UserWarning: X is not of type float64. Got X.dtype=float32. This may lead to numerical instability. \n",
      "  _check_precision(self.X, self.y)\n",
      "c:\\Users\\chinm\\anaconda3\\envs\\torch\\Lib\\site-packages\\gpjax\\dataset.py:44: UserWarning: y is not of type float64.Got y.dtype=float32. This may lead to numerical instability.\n",
      "  _check_precision(self.X, self.y)\n"
     ]
    },
    {
     "name": "stdout",
     "output_type": "stream",
     "text": [
      "         Current function value: -268.662048\n",
      "         Iterations: 13\n",
      "         Function evaluations: 175\n",
      "         Gradient evaluations: 164\n"
     ]
    },
    {
     "name": "stderr",
     "output_type": "stream",
     "text": [
      "c:\\Users\\chinm\\anaconda3\\envs\\torch\\Lib\\site-packages\\scipy\\optimize\\_minimize.py:708: OptimizeWarning: Desired error not necessarily achieved due to precision loss.\n",
      "  res = _minimize_bfgs(fun, x0, args, jac, callback, **options)\n",
      "c:\\Users\\chinm\\anaconda3\\envs\\torch\\Lib\\site-packages\\gpjax\\dataset.py:44: UserWarning: X is not of type float64. Got X.dtype=float32. This may lead to numerical instability. \n",
      "  _check_precision(self.X, self.y)\n",
      "c:\\Users\\chinm\\anaconda3\\envs\\torch\\Lib\\site-packages\\gpjax\\dataset.py:44: UserWarning: y is not of type float64.Got y.dtype=float32. This may lead to numerical instability.\n",
      "  _check_precision(self.X, self.y)\n"
     ]
    },
    {
     "name": "stdout",
     "output_type": "stream",
     "text": [
      "         Current function value: -269.106720\n",
      "         Iterations: 15\n",
      "         Function evaluations: 213\n",
      "         Gradient evaluations: 192\n"
     ]
    },
    {
     "name": "stderr",
     "output_type": "stream",
     "text": [
      "c:\\Users\\chinm\\anaconda3\\envs\\torch\\Lib\\site-packages\\scipy\\optimize\\_minimize.py:708: OptimizeWarning: Desired error not necessarily achieved due to precision loss.\n",
      "  res = _minimize_bfgs(fun, x0, args, jac, callback, **options)\n",
      "c:\\Users\\chinm\\anaconda3\\envs\\torch\\Lib\\site-packages\\gpjax\\dataset.py:44: UserWarning: X is not of type float64. Got X.dtype=float32. This may lead to numerical instability. \n",
      "  _check_precision(self.X, self.y)\n",
      "c:\\Users\\chinm\\anaconda3\\envs\\torch\\Lib\\site-packages\\gpjax\\dataset.py:44: UserWarning: y is not of type float64.Got y.dtype=float32. This may lead to numerical instability.\n",
      "  _check_precision(self.X, self.y)\n"
     ]
    },
    {
     "name": "stdout",
     "output_type": "stream",
     "text": [
      "         Current function value: -268.734100\n",
      "         Iterations: 15\n",
      "         Function evaluations: 163\n",
      "         Gradient evaluations: 150\n",
      "Completed 17 iterations\n"
     ]
    },
    {
     "name": "stderr",
     "output_type": "stream",
     "text": [
      "c:\\Users\\chinm\\anaconda3\\envs\\torch\\Lib\\site-packages\\scipy\\optimize\\_minimize.py:708: OptimizeWarning: Desired error not necessarily achieved due to precision loss.\n",
      "  res = _minimize_bfgs(fun, x0, args, jac, callback, **options)\n",
      "c:\\Users\\chinm\\anaconda3\\envs\\torch\\Lib\\site-packages\\gpjax\\dataset.py:44: UserWarning: X is not of type float64. Got X.dtype=float32. This may lead to numerical instability. \n",
      "  _check_precision(self.X, self.y)\n",
      "c:\\Users\\chinm\\anaconda3\\envs\\torch\\Lib\\site-packages\\gpjax\\dataset.py:44: UserWarning: y is not of type float64.Got y.dtype=float32. This may lead to numerical instability.\n",
      "  _check_precision(self.X, self.y)\n"
     ]
    },
    {
     "name": "stdout",
     "output_type": "stream",
     "text": [
      "         Current function value: -268.381042\n",
      "         Iterations: 11\n",
      "         Function evaluations: 74\n",
      "         Gradient evaluations: 63\n"
     ]
    },
    {
     "name": "stderr",
     "output_type": "stream",
     "text": [
      "c:\\Users\\chinm\\anaconda3\\envs\\torch\\Lib\\site-packages\\scipy\\optimize\\_minimize.py:708: OptimizeWarning: Desired error not necessarily achieved due to precision loss.\n",
      "  res = _minimize_bfgs(fun, x0, args, jac, callback, **options)\n",
      "c:\\Users\\chinm\\anaconda3\\envs\\torch\\Lib\\site-packages\\gpjax\\dataset.py:44: UserWarning: X is not of type float64. Got X.dtype=float32. This may lead to numerical instability. \n",
      "  _check_precision(self.X, self.y)\n",
      "c:\\Users\\chinm\\anaconda3\\envs\\torch\\Lib\\site-packages\\gpjax\\dataset.py:44: UserWarning: y is not of type float64.Got y.dtype=float32. This may lead to numerical instability.\n",
      "  _check_precision(self.X, self.y)\n"
     ]
    },
    {
     "name": "stdout",
     "output_type": "stream",
     "text": [
      "         Current function value: -268.539978\n",
      "         Iterations: 9\n",
      "         Function evaluations: 73\n",
      "         Gradient evaluations: 63\n"
     ]
    },
    {
     "name": "stderr",
     "output_type": "stream",
     "text": [
      "c:\\Users\\chinm\\anaconda3\\envs\\torch\\Lib\\site-packages\\scipy\\optimize\\_minimize.py:708: OptimizeWarning: Desired error not necessarily achieved due to precision loss.\n",
      "  res = _minimize_bfgs(fun, x0, args, jac, callback, **options)\n",
      "c:\\Users\\chinm\\anaconda3\\envs\\torch\\Lib\\site-packages\\gpjax\\dataset.py:44: UserWarning: X is not of type float64. Got X.dtype=float32. This may lead to numerical instability. \n",
      "  _check_precision(self.X, self.y)\n",
      "c:\\Users\\chinm\\anaconda3\\envs\\torch\\Lib\\site-packages\\gpjax\\dataset.py:44: UserWarning: y is not of type float64.Got y.dtype=float32. This may lead to numerical instability.\n",
      "  _check_precision(self.X, self.y)\n"
     ]
    },
    {
     "name": "stdout",
     "output_type": "stream",
     "text": [
      "         Current function value: -268.584290\n",
      "         Iterations: 12\n",
      "         Function evaluations: 92\n",
      "         Gradient evaluations: 81\n"
     ]
    },
    {
     "name": "stderr",
     "output_type": "stream",
     "text": [
      "c:\\Users\\chinm\\anaconda3\\envs\\torch\\Lib\\site-packages\\scipy\\optimize\\_minimize.py:708: OptimizeWarning: Desired error not necessarily achieved due to precision loss.\n",
      "  res = _minimize_bfgs(fun, x0, args, jac, callback, **options)\n",
      "c:\\Users\\chinm\\anaconda3\\envs\\torch\\Lib\\site-packages\\gpjax\\dataset.py:44: UserWarning: X is not of type float64. Got X.dtype=float32. This may lead to numerical instability. \n",
      "  _check_precision(self.X, self.y)\n",
      "c:\\Users\\chinm\\anaconda3\\envs\\torch\\Lib\\site-packages\\gpjax\\dataset.py:44: UserWarning: y is not of type float64.Got y.dtype=float32. This may lead to numerical instability.\n",
      "  _check_precision(self.X, self.y)\n"
     ]
    },
    {
     "name": "stdout",
     "output_type": "stream",
     "text": [
      "         Current function value: -270.257019\n",
      "         Iterations: 16\n",
      "         Function evaluations: 100\n",
      "         Gradient evaluations: 89\n",
      "Completed 21 iterations\n"
     ]
    },
    {
     "name": "stderr",
     "output_type": "stream",
     "text": [
      "c:\\Users\\chinm\\anaconda3\\envs\\torch\\Lib\\site-packages\\scipy\\optimize\\_minimize.py:708: OptimizeWarning: Desired error not necessarily achieved due to precision loss.\n",
      "  res = _minimize_bfgs(fun, x0, args, jac, callback, **options)\n",
      "c:\\Users\\chinm\\anaconda3\\envs\\torch\\Lib\\site-packages\\gpjax\\dataset.py:44: UserWarning: X is not of type float64. Got X.dtype=float32. This may lead to numerical instability. \n",
      "  _check_precision(self.X, self.y)\n",
      "c:\\Users\\chinm\\anaconda3\\envs\\torch\\Lib\\site-packages\\gpjax\\dataset.py:44: UserWarning: y is not of type float64.Got y.dtype=float32. This may lead to numerical instability.\n",
      "  _check_precision(self.X, self.y)\n"
     ]
    },
    {
     "name": "stdout",
     "output_type": "stream",
     "text": [
      "         Current function value: -269.224243\n",
      "         Iterations: 14\n",
      "         Function evaluations: 89\n",
      "         Gradient evaluations: 78\n"
     ]
    },
    {
     "name": "stderr",
     "output_type": "stream",
     "text": [
      "c:\\Users\\chinm\\anaconda3\\envs\\torch\\Lib\\site-packages\\scipy\\optimize\\_minimize.py:708: OptimizeWarning: Desired error not necessarily achieved due to precision loss.\n",
      "  res = _minimize_bfgs(fun, x0, args, jac, callback, **options)\n",
      "c:\\Users\\chinm\\anaconda3\\envs\\torch\\Lib\\site-packages\\gpjax\\dataset.py:44: UserWarning: X is not of type float64. Got X.dtype=float32. This may lead to numerical instability. \n",
      "  _check_precision(self.X, self.y)\n",
      "c:\\Users\\chinm\\anaconda3\\envs\\torch\\Lib\\site-packages\\gpjax\\dataset.py:44: UserWarning: y is not of type float64.Got y.dtype=float32. This may lead to numerical instability.\n",
      "  _check_precision(self.X, self.y)\n"
     ]
    },
    {
     "name": "stdout",
     "output_type": "stream",
     "text": [
      "         Current function value: -268.732208\n",
      "         Iterations: 15\n",
      "         Function evaluations: 103\n",
      "         Gradient evaluations: 92\n"
     ]
    },
    {
     "name": "stderr",
     "output_type": "stream",
     "text": [
      "c:\\Users\\chinm\\anaconda3\\envs\\torch\\Lib\\site-packages\\scipy\\optimize\\_minimize.py:708: OptimizeWarning: Desired error not necessarily achieved due to precision loss.\n",
      "  res = _minimize_bfgs(fun, x0, args, jac, callback, **options)\n",
      "c:\\Users\\chinm\\anaconda3\\envs\\torch\\Lib\\site-packages\\gpjax\\dataset.py:44: UserWarning: X is not of type float64. Got X.dtype=float32. This may lead to numerical instability. \n",
      "  _check_precision(self.X, self.y)\n",
      "c:\\Users\\chinm\\anaconda3\\envs\\torch\\Lib\\site-packages\\gpjax\\dataset.py:44: UserWarning: y is not of type float64.Got y.dtype=float32. This may lead to numerical instability.\n",
      "  _check_precision(self.X, self.y)\n"
     ]
    },
    {
     "name": "stdout",
     "output_type": "stream",
     "text": [
      "         Current function value: -268.535522\n",
      "         Iterations: 12\n",
      "         Function evaluations: 105\n",
      "         Gradient evaluations: 94\n"
     ]
    },
    {
     "name": "stderr",
     "output_type": "stream",
     "text": [
      "c:\\Users\\chinm\\anaconda3\\envs\\torch\\Lib\\site-packages\\scipy\\optimize\\_minimize.py:708: OptimizeWarning: Desired error not necessarily achieved due to precision loss.\n",
      "  res = _minimize_bfgs(fun, x0, args, jac, callback, **options)\n",
      "c:\\Users\\chinm\\anaconda3\\envs\\torch\\Lib\\site-packages\\gpjax\\dataset.py:44: UserWarning: X is not of type float64. Got X.dtype=float32. This may lead to numerical instability. \n",
      "  _check_precision(self.X, self.y)\n",
      "c:\\Users\\chinm\\anaconda3\\envs\\torch\\Lib\\site-packages\\gpjax\\dataset.py:44: UserWarning: y is not of type float64.Got y.dtype=float32. This may lead to numerical instability.\n",
      "  _check_precision(self.X, self.y)\n"
     ]
    },
    {
     "name": "stdout",
     "output_type": "stream",
     "text": [
      "         Current function value: -268.367584\n",
      "         Iterations: 12\n",
      "         Function evaluations: 95\n",
      "         Gradient evaluations: 83\n",
      "Completed 25 iterations\n"
     ]
    },
    {
     "name": "stderr",
     "output_type": "stream",
     "text": [
      "c:\\Users\\chinm\\anaconda3\\envs\\torch\\Lib\\site-packages\\scipy\\optimize\\_minimize.py:708: OptimizeWarning: Desired error not necessarily achieved due to precision loss.\n",
      "  res = _minimize_bfgs(fun, x0, args, jac, callback, **options)\n",
      "c:\\Users\\chinm\\anaconda3\\envs\\torch\\Lib\\site-packages\\gpjax\\dataset.py:44: UserWarning: X is not of type float64. Got X.dtype=float32. This may lead to numerical instability. \n",
      "  _check_precision(self.X, self.y)\n",
      "c:\\Users\\chinm\\anaconda3\\envs\\torch\\Lib\\site-packages\\gpjax\\dataset.py:44: UserWarning: y is not of type float64.Got y.dtype=float32. This may lead to numerical instability.\n",
      "  _check_precision(self.X, self.y)\n"
     ]
    },
    {
     "name": "stdout",
     "output_type": "stream",
     "text": [
      "         Current function value: -268.736237\n",
      "         Iterations: 10\n",
      "         Function evaluations: 79\n",
      "         Gradient evaluations: 67\n"
     ]
    },
    {
     "name": "stderr",
     "output_type": "stream",
     "text": [
      "c:\\Users\\chinm\\anaconda3\\envs\\torch\\Lib\\site-packages\\scipy\\optimize\\_minimize.py:708: OptimizeWarning: Desired error not necessarily achieved due to precision loss.\n",
      "  res = _minimize_bfgs(fun, x0, args, jac, callback, **options)\n",
      "c:\\Users\\chinm\\anaconda3\\envs\\torch\\Lib\\site-packages\\gpjax\\dataset.py:44: UserWarning: X is not of type float64. Got X.dtype=float32. This may lead to numerical instability. \n",
      "  _check_precision(self.X, self.y)\n",
      "c:\\Users\\chinm\\anaconda3\\envs\\torch\\Lib\\site-packages\\gpjax\\dataset.py:44: UserWarning: y is not of type float64.Got y.dtype=float32. This may lead to numerical instability.\n",
      "  _check_precision(self.X, self.y)\n"
     ]
    },
    {
     "name": "stdout",
     "output_type": "stream",
     "text": [
      "         Current function value: -268.675476\n",
      "         Iterations: 14\n",
      "         Function evaluations: 113\n",
      "         Gradient evaluations: 103\n"
     ]
    },
    {
     "name": "stderr",
     "output_type": "stream",
     "text": [
      "c:\\Users\\chinm\\anaconda3\\envs\\torch\\Lib\\site-packages\\scipy\\optimize\\_minimize.py:708: OptimizeWarning: Desired error not necessarily achieved due to precision loss.\n",
      "  res = _minimize_bfgs(fun, x0, args, jac, callback, **options)\n",
      "c:\\Users\\chinm\\anaconda3\\envs\\torch\\Lib\\site-packages\\gpjax\\dataset.py:44: UserWarning: X is not of type float64. Got X.dtype=float32. This may lead to numerical instability. \n",
      "  _check_precision(self.X, self.y)\n",
      "c:\\Users\\chinm\\anaconda3\\envs\\torch\\Lib\\site-packages\\gpjax\\dataset.py:44: UserWarning: y is not of type float64.Got y.dtype=float32. This may lead to numerical instability.\n",
      "  _check_precision(self.X, self.y)\n"
     ]
    },
    {
     "name": "stdout",
     "output_type": "stream",
     "text": [
      "         Current function value: -268.863586\n",
      "         Iterations: 29\n",
      "         Function evaluations: 200\n",
      "         Gradient evaluations: 178\n"
     ]
    },
    {
     "name": "stderr",
     "output_type": "stream",
     "text": [
      "c:\\Users\\chinm\\anaconda3\\envs\\torch\\Lib\\site-packages\\scipy\\optimize\\_minimize.py:708: OptimizeWarning: Desired error not necessarily achieved due to precision loss.\n",
      "  res = _minimize_bfgs(fun, x0, args, jac, callback, **options)\n",
      "c:\\Users\\chinm\\anaconda3\\envs\\torch\\Lib\\site-packages\\gpjax\\dataset.py:44: UserWarning: X is not of type float64. Got X.dtype=float32. This may lead to numerical instability. \n",
      "  _check_precision(self.X, self.y)\n",
      "c:\\Users\\chinm\\anaconda3\\envs\\torch\\Lib\\site-packages\\gpjax\\dataset.py:44: UserWarning: y is not of type float64.Got y.dtype=float32. This may lead to numerical instability.\n",
      "  _check_precision(self.X, self.y)\n"
     ]
    },
    {
     "name": "stdout",
     "output_type": "stream",
     "text": [
      "         Current function value: -269.158539\n",
      "         Iterations: 27\n",
      "         Function evaluations: 147\n",
      "         Gradient evaluations: 136\n",
      "Completed 29 iterations\n"
     ]
    },
    {
     "name": "stderr",
     "output_type": "stream",
     "text": [
      "c:\\Users\\chinm\\anaconda3\\envs\\torch\\Lib\\site-packages\\scipy\\optimize\\_minimize.py:708: OptimizeWarning: Desired error not necessarily achieved due to precision loss.\n",
      "  res = _minimize_bfgs(fun, x0, args, jac, callback, **options)\n",
      "c:\\Users\\chinm\\anaconda3\\envs\\torch\\Lib\\site-packages\\gpjax\\dataset.py:44: UserWarning: X is not of type float64. Got X.dtype=float32. This may lead to numerical instability. \n",
      "  _check_precision(self.X, self.y)\n",
      "c:\\Users\\chinm\\anaconda3\\envs\\torch\\Lib\\site-packages\\gpjax\\dataset.py:44: UserWarning: y is not of type float64.Got y.dtype=float32. This may lead to numerical instability.\n",
      "  _check_precision(self.X, self.y)\n"
     ]
    },
    {
     "name": "stdout",
     "output_type": "stream",
     "text": [
      "         Current function value: -268.455200\n",
      "         Iterations: 11\n",
      "         Function evaluations: 83\n",
      "         Gradient evaluations: 72\n"
     ]
    },
    {
     "name": "stderr",
     "output_type": "stream",
     "text": [
      "c:\\Users\\chinm\\anaconda3\\envs\\torch\\Lib\\site-packages\\scipy\\optimize\\_minimize.py:708: OptimizeWarning: Desired error not necessarily achieved due to precision loss.\n",
      "  res = _minimize_bfgs(fun, x0, args, jac, callback, **options)\n",
      "c:\\Users\\chinm\\anaconda3\\envs\\torch\\Lib\\site-packages\\gpjax\\dataset.py:44: UserWarning: X is not of type float64. Got X.dtype=float32. This may lead to numerical instability. \n",
      "  _check_precision(self.X, self.y)\n",
      "c:\\Users\\chinm\\anaconda3\\envs\\torch\\Lib\\site-packages\\gpjax\\dataset.py:44: UserWarning: y is not of type float64.Got y.dtype=float32. This may lead to numerical instability.\n",
      "  _check_precision(self.X, self.y)\n"
     ]
    },
    {
     "name": "stdout",
     "output_type": "stream",
     "text": [
      "         Current function value: -268.759369\n",
      "         Iterations: 22\n",
      "         Function evaluations: 181\n",
      "         Gradient evaluations: 169\n"
     ]
    },
    {
     "name": "stderr",
     "output_type": "stream",
     "text": [
      "c:\\Users\\chinm\\anaconda3\\envs\\torch\\Lib\\site-packages\\scipy\\optimize\\_minimize.py:708: OptimizeWarning: Desired error not necessarily achieved due to precision loss.\n",
      "  res = _minimize_bfgs(fun, x0, args, jac, callback, **options)\n",
      "c:\\Users\\chinm\\anaconda3\\envs\\torch\\Lib\\site-packages\\gpjax\\dataset.py:44: UserWarning: X is not of type float64. Got X.dtype=float32. This may lead to numerical instability. \n",
      "  _check_precision(self.X, self.y)\n",
      "c:\\Users\\chinm\\anaconda3\\envs\\torch\\Lib\\site-packages\\gpjax\\dataset.py:44: UserWarning: y is not of type float64.Got y.dtype=float32. This may lead to numerical instability.\n",
      "  _check_precision(self.X, self.y)\n"
     ]
    },
    {
     "name": "stdout",
     "output_type": "stream",
     "text": [
      "         Current function value: -268.357605\n",
      "         Iterations: 13\n",
      "         Function evaluations: 90\n",
      "         Gradient evaluations: 79\n"
     ]
    },
    {
     "name": "stderr",
     "output_type": "stream",
     "text": [
      "c:\\Users\\chinm\\anaconda3\\envs\\torch\\Lib\\site-packages\\scipy\\optimize\\_minimize.py:708: OptimizeWarning: Desired error not necessarily achieved due to precision loss.\n",
      "  res = _minimize_bfgs(fun, x0, args, jac, callback, **options)\n",
      "c:\\Users\\chinm\\anaconda3\\envs\\torch\\Lib\\site-packages\\gpjax\\dataset.py:44: UserWarning: X is not of type float64. Got X.dtype=float32. This may lead to numerical instability. \n",
      "  _check_precision(self.X, self.y)\n",
      "c:\\Users\\chinm\\anaconda3\\envs\\torch\\Lib\\site-packages\\gpjax\\dataset.py:44: UserWarning: y is not of type float64.Got y.dtype=float32. This may lead to numerical instability.\n",
      "  _check_precision(self.X, self.y)\n"
     ]
    },
    {
     "name": "stdout",
     "output_type": "stream",
     "text": [
      "         Current function value: -272.070801\n",
      "         Iterations: 22\n",
      "         Function evaluations: 119\n",
      "         Gradient evaluations: 107\n",
      "Completed 33 iterations\n"
     ]
    },
    {
     "name": "stderr",
     "output_type": "stream",
     "text": [
      "c:\\Users\\chinm\\anaconda3\\envs\\torch\\Lib\\site-packages\\scipy\\optimize\\_minimize.py:708: OptimizeWarning: Desired error not necessarily achieved due to precision loss.\n",
      "  res = _minimize_bfgs(fun, x0, args, jac, callback, **options)\n",
      "c:\\Users\\chinm\\anaconda3\\envs\\torch\\Lib\\site-packages\\gpjax\\dataset.py:44: UserWarning: X is not of type float64. Got X.dtype=float32. This may lead to numerical instability. \n",
      "  _check_precision(self.X, self.y)\n",
      "c:\\Users\\chinm\\anaconda3\\envs\\torch\\Lib\\site-packages\\gpjax\\dataset.py:44: UserWarning: y is not of type float64.Got y.dtype=float32. This may lead to numerical instability.\n",
      "  _check_precision(self.X, self.y)\n"
     ]
    },
    {
     "name": "stdout",
     "output_type": "stream",
     "text": [
      "         Current function value: -268.617065\n",
      "         Iterations: 12\n",
      "         Function evaluations: 97\n",
      "         Gradient evaluations: 86\n"
     ]
    },
    {
     "name": "stderr",
     "output_type": "stream",
     "text": [
      "c:\\Users\\chinm\\anaconda3\\envs\\torch\\Lib\\site-packages\\scipy\\optimize\\_minimize.py:708: OptimizeWarning: Desired error not necessarily achieved due to precision loss.\n",
      "  res = _minimize_bfgs(fun, x0, args, jac, callback, **options)\n",
      "c:\\Users\\chinm\\anaconda3\\envs\\torch\\Lib\\site-packages\\gpjax\\dataset.py:44: UserWarning: X is not of type float64. Got X.dtype=float32. This may lead to numerical instability. \n",
      "  _check_precision(self.X, self.y)\n",
      "c:\\Users\\chinm\\anaconda3\\envs\\torch\\Lib\\site-packages\\gpjax\\dataset.py:44: UserWarning: y is not of type float64.Got y.dtype=float32. This may lead to numerical instability.\n",
      "  _check_precision(self.X, self.y)\n"
     ]
    },
    {
     "name": "stdout",
     "output_type": "stream",
     "text": [
      "         Current function value: -268.602173\n",
      "         Iterations: 13\n",
      "         Function evaluations: 142\n",
      "         Gradient evaluations: 124\n"
     ]
    },
    {
     "name": "stderr",
     "output_type": "stream",
     "text": [
      "c:\\Users\\chinm\\anaconda3\\envs\\torch\\Lib\\site-packages\\scipy\\optimize\\_minimize.py:708: OptimizeWarning: Desired error not necessarily achieved due to precision loss.\n",
      "  res = _minimize_bfgs(fun, x0, args, jac, callback, **options)\n",
      "c:\\Users\\chinm\\anaconda3\\envs\\torch\\Lib\\site-packages\\gpjax\\dataset.py:44: UserWarning: X is not of type float64. Got X.dtype=float32. This may lead to numerical instability. \n",
      "  _check_precision(self.X, self.y)\n",
      "c:\\Users\\chinm\\anaconda3\\envs\\torch\\Lib\\site-packages\\gpjax\\dataset.py:44: UserWarning: y is not of type float64.Got y.dtype=float32. This may lead to numerical instability.\n",
      "  _check_precision(self.X, self.y)\n"
     ]
    },
    {
     "name": "stdout",
     "output_type": "stream",
     "text": [
      "         Current function value: -269.845520\n",
      "         Iterations: 12\n",
      "         Function evaluations: 98\n",
      "         Gradient evaluations: 86\n"
     ]
    },
    {
     "name": "stderr",
     "output_type": "stream",
     "text": [
      "c:\\Users\\chinm\\anaconda3\\envs\\torch\\Lib\\site-packages\\scipy\\optimize\\_minimize.py:708: OptimizeWarning: Desired error not necessarily achieved due to precision loss.\n",
      "  res = _minimize_bfgs(fun, x0, args, jac, callback, **options)\n",
      "c:\\Users\\chinm\\anaconda3\\envs\\torch\\Lib\\site-packages\\gpjax\\dataset.py:44: UserWarning: X is not of type float64. Got X.dtype=float32. This may lead to numerical instability. \n",
      "  _check_precision(self.X, self.y)\n",
      "c:\\Users\\chinm\\anaconda3\\envs\\torch\\Lib\\site-packages\\gpjax\\dataset.py:44: UserWarning: y is not of type float64.Got y.dtype=float32. This may lead to numerical instability.\n",
      "  _check_precision(self.X, self.y)\n"
     ]
    },
    {
     "name": "stdout",
     "output_type": "stream",
     "text": [
      "         Current function value: -268.596588\n",
      "         Iterations: 15\n",
      "         Function evaluations: 152\n",
      "         Gradient evaluations: 140\n",
      "Completed 37 iterations\n"
     ]
    },
    {
     "name": "stderr",
     "output_type": "stream",
     "text": [
      "c:\\Users\\chinm\\anaconda3\\envs\\torch\\Lib\\site-packages\\scipy\\optimize\\_minimize.py:708: OptimizeWarning: Desired error not necessarily achieved due to precision loss.\n",
      "  res = _minimize_bfgs(fun, x0, args, jac, callback, **options)\n",
      "c:\\Users\\chinm\\anaconda3\\envs\\torch\\Lib\\site-packages\\gpjax\\dataset.py:44: UserWarning: X is not of type float64. Got X.dtype=float32. This may lead to numerical instability. \n",
      "  _check_precision(self.X, self.y)\n",
      "c:\\Users\\chinm\\anaconda3\\envs\\torch\\Lib\\site-packages\\gpjax\\dataset.py:44: UserWarning: y is not of type float64.Got y.dtype=float32. This may lead to numerical instability.\n",
      "  _check_precision(self.X, self.y)\n"
     ]
    },
    {
     "name": "stdout",
     "output_type": "stream",
     "text": [
      "         Current function value: -268.434113\n",
      "         Iterations: 9\n",
      "         Function evaluations: 146\n",
      "         Gradient evaluations: 133\n"
     ]
    },
    {
     "name": "stderr",
     "output_type": "stream",
     "text": [
      "c:\\Users\\chinm\\anaconda3\\envs\\torch\\Lib\\site-packages\\scipy\\optimize\\_minimize.py:708: OptimizeWarning: Desired error not necessarily achieved due to precision loss.\n",
      "  res = _minimize_bfgs(fun, x0, args, jac, callback, **options)\n",
      "c:\\Users\\chinm\\anaconda3\\envs\\torch\\Lib\\site-packages\\gpjax\\dataset.py:44: UserWarning: X is not of type float64. Got X.dtype=float32. This may lead to numerical instability. \n",
      "  _check_precision(self.X, self.y)\n",
      "c:\\Users\\chinm\\anaconda3\\envs\\torch\\Lib\\site-packages\\gpjax\\dataset.py:44: UserWarning: y is not of type float64.Got y.dtype=float32. This may lead to numerical instability.\n",
      "  _check_precision(self.X, self.y)\n"
     ]
    },
    {
     "name": "stdout",
     "output_type": "stream",
     "text": [
      "         Current function value: -268.918884\n",
      "         Iterations: 13\n",
      "         Function evaluations: 151\n",
      "         Gradient evaluations: 130\n"
     ]
    },
    {
     "name": "stderr",
     "output_type": "stream",
     "text": [
      "c:\\Users\\chinm\\anaconda3\\envs\\torch\\Lib\\site-packages\\scipy\\optimize\\_minimize.py:708: OptimizeWarning: Desired error not necessarily achieved due to precision loss.\n",
      "  res = _minimize_bfgs(fun, x0, args, jac, callback, **options)\n",
      "c:\\Users\\chinm\\anaconda3\\envs\\torch\\Lib\\site-packages\\gpjax\\dataset.py:44: UserWarning: X is not of type float64. Got X.dtype=float32. This may lead to numerical instability. \n",
      "  _check_precision(self.X, self.y)\n",
      "c:\\Users\\chinm\\anaconda3\\envs\\torch\\Lib\\site-packages\\gpjax\\dataset.py:44: UserWarning: y is not of type float64.Got y.dtype=float32. This may lead to numerical instability.\n",
      "  _check_precision(self.X, self.y)\n"
     ]
    },
    {
     "name": "stdout",
     "output_type": "stream",
     "text": [
      "         Current function value: -270.252991\n",
      "         Iterations: 20\n",
      "         Function evaluations: 85\n",
      "         Gradient evaluations: 73\n"
     ]
    },
    {
     "name": "stderr",
     "output_type": "stream",
     "text": [
      "c:\\Users\\chinm\\anaconda3\\envs\\torch\\Lib\\site-packages\\scipy\\optimize\\_minimize.py:708: OptimizeWarning: Desired error not necessarily achieved due to precision loss.\n",
      "  res = _minimize_bfgs(fun, x0, args, jac, callback, **options)\n",
      "c:\\Users\\chinm\\anaconda3\\envs\\torch\\Lib\\site-packages\\gpjax\\dataset.py:44: UserWarning: X is not of type float64. Got X.dtype=float32. This may lead to numerical instability. \n",
      "  _check_precision(self.X, self.y)\n",
      "c:\\Users\\chinm\\anaconda3\\envs\\torch\\Lib\\site-packages\\gpjax\\dataset.py:44: UserWarning: y is not of type float64.Got y.dtype=float32. This may lead to numerical instability.\n",
      "  _check_precision(self.X, self.y)\n"
     ]
    },
    {
     "name": "stdout",
     "output_type": "stream",
     "text": [
      "         Current function value: -268.600525\n",
      "         Iterations: 13\n",
      "         Function evaluations: 172\n",
      "         Gradient evaluations: 159\n",
      "Completed 41 iterations\n"
     ]
    },
    {
     "name": "stderr",
     "output_type": "stream",
     "text": [
      "c:\\Users\\chinm\\anaconda3\\envs\\torch\\Lib\\site-packages\\scipy\\optimize\\_minimize.py:708: OptimizeWarning: Desired error not necessarily achieved due to precision loss.\n",
      "  res = _minimize_bfgs(fun, x0, args, jac, callback, **options)\n",
      "c:\\Users\\chinm\\anaconda3\\envs\\torch\\Lib\\site-packages\\gpjax\\dataset.py:44: UserWarning: X is not of type float64. Got X.dtype=float32. This may lead to numerical instability. \n",
      "  _check_precision(self.X, self.y)\n",
      "c:\\Users\\chinm\\anaconda3\\envs\\torch\\Lib\\site-packages\\gpjax\\dataset.py:44: UserWarning: y is not of type float64.Got y.dtype=float32. This may lead to numerical instability.\n",
      "  _check_precision(self.X, self.y)\n"
     ]
    },
    {
     "name": "stdout",
     "output_type": "stream",
     "text": [
      "         Current function value: -271.021484\n",
      "         Iterations: 17\n",
      "         Function evaluations: 163\n",
      "         Gradient evaluations: 147\n"
     ]
    },
    {
     "name": "stderr",
     "output_type": "stream",
     "text": [
      "c:\\Users\\chinm\\anaconda3\\envs\\torch\\Lib\\site-packages\\scipy\\optimize\\_minimize.py:708: OptimizeWarning: Desired error not necessarily achieved due to precision loss.\n",
      "  res = _minimize_bfgs(fun, x0, args, jac, callback, **options)\n",
      "c:\\Users\\chinm\\anaconda3\\envs\\torch\\Lib\\site-packages\\gpjax\\dataset.py:44: UserWarning: X is not of type float64. Got X.dtype=float32. This may lead to numerical instability. \n",
      "  _check_precision(self.X, self.y)\n",
      "c:\\Users\\chinm\\anaconda3\\envs\\torch\\Lib\\site-packages\\gpjax\\dataset.py:44: UserWarning: y is not of type float64.Got y.dtype=float32. This may lead to numerical instability.\n",
      "  _check_precision(self.X, self.y)\n"
     ]
    },
    {
     "name": "stdout",
     "output_type": "stream",
     "text": [
      "         Current function value: -268.610352\n",
      "         Iterations: 14\n",
      "         Function evaluations: 98\n",
      "         Gradient evaluations: 86\n"
     ]
    },
    {
     "name": "stderr",
     "output_type": "stream",
     "text": [
      "c:\\Users\\chinm\\anaconda3\\envs\\torch\\Lib\\site-packages\\scipy\\optimize\\_minimize.py:708: OptimizeWarning: Desired error not necessarily achieved due to precision loss.\n",
      "  res = _minimize_bfgs(fun, x0, args, jac, callback, **options)\n",
      "c:\\Users\\chinm\\anaconda3\\envs\\torch\\Lib\\site-packages\\gpjax\\dataset.py:44: UserWarning: X is not of type float64. Got X.dtype=float32. This may lead to numerical instability. \n",
      "  _check_precision(self.X, self.y)\n",
      "c:\\Users\\chinm\\anaconda3\\envs\\torch\\Lib\\site-packages\\gpjax\\dataset.py:44: UserWarning: y is not of type float64.Got y.dtype=float32. This may lead to numerical instability.\n",
      "  _check_precision(self.X, self.y)\n"
     ]
    },
    {
     "name": "stdout",
     "output_type": "stream",
     "text": [
      "         Current function value: -268.448547\n",
      "         Iterations: 14\n",
      "         Function evaluations: 115\n",
      "         Gradient evaluations: 103\n"
     ]
    },
    {
     "name": "stderr",
     "output_type": "stream",
     "text": [
      "c:\\Users\\chinm\\anaconda3\\envs\\torch\\Lib\\site-packages\\scipy\\optimize\\_minimize.py:708: OptimizeWarning: Desired error not necessarily achieved due to precision loss.\n",
      "  res = _minimize_bfgs(fun, x0, args, jac, callback, **options)\n",
      "c:\\Users\\chinm\\anaconda3\\envs\\torch\\Lib\\site-packages\\gpjax\\dataset.py:44: UserWarning: X is not of type float64. Got X.dtype=float32. This may lead to numerical instability. \n",
      "  _check_precision(self.X, self.y)\n",
      "c:\\Users\\chinm\\anaconda3\\envs\\torch\\Lib\\site-packages\\gpjax\\dataset.py:44: UserWarning: y is not of type float64.Got y.dtype=float32. This may lead to numerical instability.\n",
      "  _check_precision(self.X, self.y)\n"
     ]
    },
    {
     "name": "stdout",
     "output_type": "stream",
     "text": [
      "         Current function value: -268.694550\n",
      "         Iterations: 13\n",
      "         Function evaluations: 92\n",
      "         Gradient evaluations: 82\n",
      "Completed 45 iterations\n"
     ]
    },
    {
     "name": "stderr",
     "output_type": "stream",
     "text": [
      "c:\\Users\\chinm\\anaconda3\\envs\\torch\\Lib\\site-packages\\scipy\\optimize\\_minimize.py:708: OptimizeWarning: Desired error not necessarily achieved due to precision loss.\n",
      "  res = _minimize_bfgs(fun, x0, args, jac, callback, **options)\n",
      "c:\\Users\\chinm\\anaconda3\\envs\\torch\\Lib\\site-packages\\gpjax\\dataset.py:44: UserWarning: X is not of type float64. Got X.dtype=float32. This may lead to numerical instability. \n",
      "  _check_precision(self.X, self.y)\n",
      "c:\\Users\\chinm\\anaconda3\\envs\\torch\\Lib\\site-packages\\gpjax\\dataset.py:44: UserWarning: y is not of type float64.Got y.dtype=float32. This may lead to numerical instability.\n",
      "  _check_precision(self.X, self.y)\n"
     ]
    },
    {
     "name": "stdout",
     "output_type": "stream",
     "text": [
      "         Current function value: -268.813629\n",
      "         Iterations: 14\n",
      "         Function evaluations: 163\n",
      "         Gradient evaluations: 149\n"
     ]
    },
    {
     "name": "stderr",
     "output_type": "stream",
     "text": [
      "c:\\Users\\chinm\\anaconda3\\envs\\torch\\Lib\\site-packages\\scipy\\optimize\\_minimize.py:708: OptimizeWarning: Desired error not necessarily achieved due to precision loss.\n",
      "  res = _minimize_bfgs(fun, x0, args, jac, callback, **options)\n",
      "c:\\Users\\chinm\\anaconda3\\envs\\torch\\Lib\\site-packages\\gpjax\\dataset.py:44: UserWarning: X is not of type float64. Got X.dtype=float32. This may lead to numerical instability. \n",
      "  _check_precision(self.X, self.y)\n",
      "c:\\Users\\chinm\\anaconda3\\envs\\torch\\Lib\\site-packages\\gpjax\\dataset.py:44: UserWarning: y is not of type float64.Got y.dtype=float32. This may lead to numerical instability.\n",
      "  _check_precision(self.X, self.y)\n"
     ]
    },
    {
     "name": "stdout",
     "output_type": "stream",
     "text": [
      "         Current function value: -268.437164\n",
      "         Iterations: 10\n",
      "         Function evaluations: 91\n",
      "         Gradient evaluations: 81\n"
     ]
    },
    {
     "name": "stderr",
     "output_type": "stream",
     "text": [
      "c:\\Users\\chinm\\anaconda3\\envs\\torch\\Lib\\site-packages\\scipy\\optimize\\_minimize.py:708: OptimizeWarning: Desired error not necessarily achieved due to precision loss.\n",
      "  res = _minimize_bfgs(fun, x0, args, jac, callback, **options)\n",
      "c:\\Users\\chinm\\anaconda3\\envs\\torch\\Lib\\site-packages\\gpjax\\dataset.py:44: UserWarning: X is not of type float64. Got X.dtype=float32. This may lead to numerical instability. \n",
      "  _check_precision(self.X, self.y)\n",
      "c:\\Users\\chinm\\anaconda3\\envs\\torch\\Lib\\site-packages\\gpjax\\dataset.py:44: UserWarning: y is not of type float64.Got y.dtype=float32. This may lead to numerical instability.\n",
      "  _check_precision(self.X, self.y)\n"
     ]
    },
    {
     "name": "stdout",
     "output_type": "stream",
     "text": [
      "         Current function value: -268.673584\n",
      "         Iterations: 13\n",
      "         Function evaluations: 108\n",
      "         Gradient evaluations: 97\n"
     ]
    },
    {
     "name": "stderr",
     "output_type": "stream",
     "text": [
      "c:\\Users\\chinm\\anaconda3\\envs\\torch\\Lib\\site-packages\\scipy\\optimize\\_minimize.py:708: OptimizeWarning: Desired error not necessarily achieved due to precision loss.\n",
      "  res = _minimize_bfgs(fun, x0, args, jac, callback, **options)\n",
      "c:\\Users\\chinm\\anaconda3\\envs\\torch\\Lib\\site-packages\\gpjax\\dataset.py:44: UserWarning: X is not of type float64. Got X.dtype=float32. This may lead to numerical instability. \n",
      "  _check_precision(self.X, self.y)\n",
      "c:\\Users\\chinm\\anaconda3\\envs\\torch\\Lib\\site-packages\\gpjax\\dataset.py:44: UserWarning: y is not of type float64.Got y.dtype=float32. This may lead to numerical instability.\n",
      "  _check_precision(self.X, self.y)\n"
     ]
    },
    {
     "name": "stdout",
     "output_type": "stream",
     "text": [
      "         Current function value: -269.253998\n",
      "         Iterations: 11\n",
      "         Function evaluations: 97\n",
      "         Gradient evaluations: 86\n",
      "Completed 49 iterations\n"
     ]
    },
    {
     "name": "stderr",
     "output_type": "stream",
     "text": [
      "c:\\Users\\chinm\\anaconda3\\envs\\torch\\Lib\\site-packages\\scipy\\optimize\\_minimize.py:708: OptimizeWarning: Desired error not necessarily achieved due to precision loss.\n",
      "  res = _minimize_bfgs(fun, x0, args, jac, callback, **options)\n",
      "c:\\Users\\chinm\\anaconda3\\envs\\torch\\Lib\\site-packages\\gpjax\\dataset.py:44: UserWarning: X is not of type float64. Got X.dtype=float32. This may lead to numerical instability. \n",
      "  _check_precision(self.X, self.y)\n",
      "c:\\Users\\chinm\\anaconda3\\envs\\torch\\Lib\\site-packages\\gpjax\\dataset.py:44: UserWarning: y is not of type float64.Got y.dtype=float32. This may lead to numerical instability.\n",
      "  _check_precision(self.X, self.y)\n"
     ]
    },
    {
     "name": "stdout",
     "output_type": "stream",
     "text": [
      "         Current function value: -269.096497\n",
      "         Iterations: 17\n",
      "         Function evaluations: 97\n",
      "         Gradient evaluations: 86\n"
     ]
    },
    {
     "name": "stderr",
     "output_type": "stream",
     "text": [
      "c:\\Users\\chinm\\anaconda3\\envs\\torch\\Lib\\site-packages\\scipy\\optimize\\_minimize.py:708: OptimizeWarning: Desired error not necessarily achieved due to precision loss.\n",
      "  res = _minimize_bfgs(fun, x0, args, jac, callback, **options)\n",
      "c:\\Users\\chinm\\anaconda3\\envs\\torch\\Lib\\site-packages\\gpjax\\dataset.py:44: UserWarning: X is not of type float64. Got X.dtype=float32. This may lead to numerical instability. \n",
      "  _check_precision(self.X, self.y)\n",
      "c:\\Users\\chinm\\anaconda3\\envs\\torch\\Lib\\site-packages\\gpjax\\dataset.py:44: UserWarning: y is not of type float64.Got y.dtype=float32. This may lead to numerical instability.\n",
      "  _check_precision(self.X, self.y)\n"
     ]
    },
    {
     "name": "stdout",
     "output_type": "stream",
     "text": [
      "         Current function value: -271.001709\n",
      "         Iterations: 12\n",
      "         Function evaluations: 95\n",
      "         Gradient evaluations: 85\n"
     ]
    },
    {
     "name": "stderr",
     "output_type": "stream",
     "text": [
      "c:\\Users\\chinm\\anaconda3\\envs\\torch\\Lib\\site-packages\\scipy\\optimize\\_minimize.py:708: OptimizeWarning: Desired error not necessarily achieved due to precision loss.\n",
      "  res = _minimize_bfgs(fun, x0, args, jac, callback, **options)\n",
      "c:\\Users\\chinm\\anaconda3\\envs\\torch\\Lib\\site-packages\\gpjax\\dataset.py:44: UserWarning: X is not of type float64. Got X.dtype=float32. This may lead to numerical instability. \n",
      "  _check_precision(self.X, self.y)\n",
      "c:\\Users\\chinm\\anaconda3\\envs\\torch\\Lib\\site-packages\\gpjax\\dataset.py:44: UserWarning: y is not of type float64.Got y.dtype=float32. This may lead to numerical instability.\n",
      "  _check_precision(self.X, self.y)\n"
     ]
    },
    {
     "name": "stdout",
     "output_type": "stream",
     "text": [
      "         Current function value: -269.408356\n",
      "         Iterations: 14\n",
      "         Function evaluations: 98\n",
      "         Gradient evaluations: 87\n"
     ]
    },
    {
     "name": "stderr",
     "output_type": "stream",
     "text": [
      "c:\\Users\\chinm\\anaconda3\\envs\\torch\\Lib\\site-packages\\scipy\\optimize\\_minimize.py:708: OptimizeWarning: Desired error not necessarily achieved due to precision loss.\n",
      "  res = _minimize_bfgs(fun, x0, args, jac, callback, **options)\n",
      "c:\\Users\\chinm\\anaconda3\\envs\\torch\\Lib\\site-packages\\gpjax\\dataset.py:44: UserWarning: X is not of type float64. Got X.dtype=float32. This may lead to numerical instability. \n",
      "  _check_precision(self.X, self.y)\n",
      "c:\\Users\\chinm\\anaconda3\\envs\\torch\\Lib\\site-packages\\gpjax\\dataset.py:44: UserWarning: y is not of type float64.Got y.dtype=float32. This may lead to numerical instability.\n",
      "  _check_precision(self.X, self.y)\n"
     ]
    },
    {
     "name": "stdout",
     "output_type": "stream",
     "text": [
      "         Current function value: -268.845703\n",
      "         Iterations: 11\n",
      "         Function evaluations: 110\n",
      "         Gradient evaluations: 98\n",
      "Completed 53 iterations\n"
     ]
    },
    {
     "name": "stderr",
     "output_type": "stream",
     "text": [
      "c:\\Users\\chinm\\anaconda3\\envs\\torch\\Lib\\site-packages\\scipy\\optimize\\_minimize.py:708: OptimizeWarning: Desired error not necessarily achieved due to precision loss.\n",
      "  res = _minimize_bfgs(fun, x0, args, jac, callback, **options)\n",
      "c:\\Users\\chinm\\anaconda3\\envs\\torch\\Lib\\site-packages\\gpjax\\dataset.py:44: UserWarning: X is not of type float64. Got X.dtype=float32. This may lead to numerical instability. \n",
      "  _check_precision(self.X, self.y)\n",
      "c:\\Users\\chinm\\anaconda3\\envs\\torch\\Lib\\site-packages\\gpjax\\dataset.py:44: UserWarning: y is not of type float64.Got y.dtype=float32. This may lead to numerical instability.\n",
      "  _check_precision(self.X, self.y)\n"
     ]
    },
    {
     "name": "stdout",
     "output_type": "stream",
     "text": [
      "         Current function value: -268.597443\n",
      "         Iterations: 15\n",
      "         Function evaluations: 100\n",
      "         Gradient evaluations: 92\n"
     ]
    },
    {
     "name": "stderr",
     "output_type": "stream",
     "text": [
      "c:\\Users\\chinm\\anaconda3\\envs\\torch\\Lib\\site-packages\\scipy\\optimize\\_minimize.py:708: OptimizeWarning: Desired error not necessarily achieved due to precision loss.\n",
      "  res = _minimize_bfgs(fun, x0, args, jac, callback, **options)\n",
      "c:\\Users\\chinm\\anaconda3\\envs\\torch\\Lib\\site-packages\\gpjax\\dataset.py:44: UserWarning: X is not of type float64. Got X.dtype=float32. This may lead to numerical instability. \n",
      "  _check_precision(self.X, self.y)\n",
      "c:\\Users\\chinm\\anaconda3\\envs\\torch\\Lib\\site-packages\\gpjax\\dataset.py:44: UserWarning: y is not of type float64.Got y.dtype=float32. This may lead to numerical instability.\n",
      "  _check_precision(self.X, self.y)\n"
     ]
    },
    {
     "name": "stdout",
     "output_type": "stream",
     "text": [
      "         Current function value: -268.867432\n",
      "         Iterations: 14\n",
      "         Function evaluations: 101\n",
      "         Gradient evaluations: 90\n"
     ]
    },
    {
     "name": "stderr",
     "output_type": "stream",
     "text": [
      "c:\\Users\\chinm\\anaconda3\\envs\\torch\\Lib\\site-packages\\scipy\\optimize\\_minimize.py:708: OptimizeWarning: Desired error not necessarily achieved due to precision loss.\n",
      "  res = _minimize_bfgs(fun, x0, args, jac, callback, **options)\n",
      "c:\\Users\\chinm\\anaconda3\\envs\\torch\\Lib\\site-packages\\gpjax\\dataset.py:44: UserWarning: X is not of type float64. Got X.dtype=float32. This may lead to numerical instability. \n",
      "  _check_precision(self.X, self.y)\n",
      "c:\\Users\\chinm\\anaconda3\\envs\\torch\\Lib\\site-packages\\gpjax\\dataset.py:44: UserWarning: y is not of type float64.Got y.dtype=float32. This may lead to numerical instability.\n",
      "  _check_precision(self.X, self.y)\n"
     ]
    },
    {
     "name": "stdout",
     "output_type": "stream",
     "text": [
      "         Current function value: -269.865204\n",
      "         Iterations: 17\n",
      "         Function evaluations: 222\n",
      "         Gradient evaluations: 209\n"
     ]
    },
    {
     "name": "stderr",
     "output_type": "stream",
     "text": [
      "c:\\Users\\chinm\\anaconda3\\envs\\torch\\Lib\\site-packages\\scipy\\optimize\\_minimize.py:708: OptimizeWarning: Desired error not necessarily achieved due to precision loss.\n",
      "  res = _minimize_bfgs(fun, x0, args, jac, callback, **options)\n",
      "c:\\Users\\chinm\\anaconda3\\envs\\torch\\Lib\\site-packages\\gpjax\\dataset.py:44: UserWarning: X is not of type float64. Got X.dtype=float32. This may lead to numerical instability. \n",
      "  _check_precision(self.X, self.y)\n",
      "c:\\Users\\chinm\\anaconda3\\envs\\torch\\Lib\\site-packages\\gpjax\\dataset.py:44: UserWarning: y is not of type float64.Got y.dtype=float32. This may lead to numerical instability.\n",
      "  _check_precision(self.X, self.y)\n"
     ]
    },
    {
     "name": "stdout",
     "output_type": "stream",
     "text": [
      "         Current function value: -270.024323\n",
      "         Iterations: 12\n",
      "         Function evaluations: 91\n",
      "         Gradient evaluations: 80\n",
      "Completed 57 iterations\n"
     ]
    },
    {
     "name": "stderr",
     "output_type": "stream",
     "text": [
      "c:\\Users\\chinm\\anaconda3\\envs\\torch\\Lib\\site-packages\\scipy\\optimize\\_minimize.py:708: OptimizeWarning: Desired error not necessarily achieved due to precision loss.\n",
      "  res = _minimize_bfgs(fun, x0, args, jac, callback, **options)\n",
      "c:\\Users\\chinm\\anaconda3\\envs\\torch\\Lib\\site-packages\\gpjax\\dataset.py:44: UserWarning: X is not of type float64. Got X.dtype=float32. This may lead to numerical instability. \n",
      "  _check_precision(self.X, self.y)\n",
      "c:\\Users\\chinm\\anaconda3\\envs\\torch\\Lib\\site-packages\\gpjax\\dataset.py:44: UserWarning: y is not of type float64.Got y.dtype=float32. This may lead to numerical instability.\n",
      "  _check_precision(self.X, self.y)\n"
     ]
    },
    {
     "name": "stdout",
     "output_type": "stream",
     "text": [
      "         Current function value: -269.058685\n",
      "         Iterations: 22\n",
      "         Function evaluations: 106\n",
      "         Gradient evaluations: 95\n"
     ]
    },
    {
     "name": "stderr",
     "output_type": "stream",
     "text": [
      "c:\\Users\\chinm\\anaconda3\\envs\\torch\\Lib\\site-packages\\scipy\\optimize\\_minimize.py:708: OptimizeWarning: Desired error not necessarily achieved due to precision loss.\n",
      "  res = _minimize_bfgs(fun, x0, args, jac, callback, **options)\n",
      "c:\\Users\\chinm\\anaconda3\\envs\\torch\\Lib\\site-packages\\gpjax\\dataset.py:44: UserWarning: X is not of type float64. Got X.dtype=float32. This may lead to numerical instability. \n",
      "  _check_precision(self.X, self.y)\n",
      "c:\\Users\\chinm\\anaconda3\\envs\\torch\\Lib\\site-packages\\gpjax\\dataset.py:44: UserWarning: y is not of type float64.Got y.dtype=float32. This may lead to numerical instability.\n",
      "  _check_precision(self.X, self.y)\n"
     ]
    },
    {
     "name": "stdout",
     "output_type": "stream",
     "text": [
      "         Current function value: -268.657867\n",
      "         Iterations: 25\n",
      "         Function evaluations: 174\n",
      "         Gradient evaluations: 161\n"
     ]
    },
    {
     "name": "stderr",
     "output_type": "stream",
     "text": [
      "c:\\Users\\chinm\\anaconda3\\envs\\torch\\Lib\\site-packages\\scipy\\optimize\\_minimize.py:708: OptimizeWarning: Desired error not necessarily achieved due to precision loss.\n",
      "  res = _minimize_bfgs(fun, x0, args, jac, callback, **options)\n",
      "c:\\Users\\chinm\\anaconda3\\envs\\torch\\Lib\\site-packages\\gpjax\\dataset.py:44: UserWarning: X is not of type float64. Got X.dtype=float32. This may lead to numerical instability. \n",
      "  _check_precision(self.X, self.y)\n",
      "c:\\Users\\chinm\\anaconda3\\envs\\torch\\Lib\\site-packages\\gpjax\\dataset.py:44: UserWarning: y is not of type float64.Got y.dtype=float32. This may lead to numerical instability.\n",
      "  _check_precision(self.X, self.y)\n"
     ]
    },
    {
     "name": "stdout",
     "output_type": "stream",
     "text": [
      "         Current function value: -268.689484\n",
      "         Iterations: 15\n",
      "         Function evaluations: 182\n",
      "         Gradient evaluations: 171\n"
     ]
    },
    {
     "name": "stderr",
     "output_type": "stream",
     "text": [
      "c:\\Users\\chinm\\anaconda3\\envs\\torch\\Lib\\site-packages\\scipy\\optimize\\_minimize.py:708: OptimizeWarning: Desired error not necessarily achieved due to precision loss.\n",
      "  res = _minimize_bfgs(fun, x0, args, jac, callback, **options)\n",
      "c:\\Users\\chinm\\anaconda3\\envs\\torch\\Lib\\site-packages\\gpjax\\dataset.py:44: UserWarning: X is not of type float64. Got X.dtype=float32. This may lead to numerical instability. \n",
      "  _check_precision(self.X, self.y)\n",
      "c:\\Users\\chinm\\anaconda3\\envs\\torch\\Lib\\site-packages\\gpjax\\dataset.py:44: UserWarning: y is not of type float64.Got y.dtype=float32. This may lead to numerical instability.\n",
      "  _check_precision(self.X, self.y)\n"
     ]
    },
    {
     "name": "stdout",
     "output_type": "stream",
     "text": [
      "         Current function value: -271.991455\n",
      "         Iterations: 11\n",
      "         Function evaluations: 90\n",
      "         Gradient evaluations: 79\n",
      "Completed 61 iterations\n"
     ]
    },
    {
     "name": "stderr",
     "output_type": "stream",
     "text": [
      "c:\\Users\\chinm\\anaconda3\\envs\\torch\\Lib\\site-packages\\scipy\\optimize\\_minimize.py:708: OptimizeWarning: Desired error not necessarily achieved due to precision loss.\n",
      "  res = _minimize_bfgs(fun, x0, args, jac, callback, **options)\n",
      "c:\\Users\\chinm\\anaconda3\\envs\\torch\\Lib\\site-packages\\gpjax\\dataset.py:44: UserWarning: X is not of type float64. Got X.dtype=float32. This may lead to numerical instability. \n",
      "  _check_precision(self.X, self.y)\n",
      "c:\\Users\\chinm\\anaconda3\\envs\\torch\\Lib\\site-packages\\gpjax\\dataset.py:44: UserWarning: y is not of type float64.Got y.dtype=float32. This may lead to numerical instability.\n",
      "  _check_precision(self.X, self.y)\n"
     ]
    },
    {
     "name": "stdout",
     "output_type": "stream",
     "text": [
      "         Current function value: -270.685028\n",
      "         Iterations: 15\n",
      "         Function evaluations: 103\n",
      "         Gradient evaluations: 91\n"
     ]
    },
    {
     "name": "stderr",
     "output_type": "stream",
     "text": [
      "c:\\Users\\chinm\\anaconda3\\envs\\torch\\Lib\\site-packages\\scipy\\optimize\\_minimize.py:708: OptimizeWarning: Desired error not necessarily achieved due to precision loss.\n",
      "  res = _minimize_bfgs(fun, x0, args, jac, callback, **options)\n",
      "c:\\Users\\chinm\\anaconda3\\envs\\torch\\Lib\\site-packages\\gpjax\\dataset.py:44: UserWarning: X is not of type float64. Got X.dtype=float32. This may lead to numerical instability. \n",
      "  _check_precision(self.X, self.y)\n",
      "c:\\Users\\chinm\\anaconda3\\envs\\torch\\Lib\\site-packages\\gpjax\\dataset.py:44: UserWarning: y is not of type float64.Got y.dtype=float32. This may lead to numerical instability.\n",
      "  _check_precision(self.X, self.y)\n"
     ]
    },
    {
     "name": "stdout",
     "output_type": "stream",
     "text": [
      "         Current function value: -271.409607\n",
      "         Iterations: 19\n",
      "         Function evaluations: 101\n",
      "         Gradient evaluations: 89\n"
     ]
    },
    {
     "name": "stderr",
     "output_type": "stream",
     "text": [
      "c:\\Users\\chinm\\anaconda3\\envs\\torch\\Lib\\site-packages\\scipy\\optimize\\_minimize.py:708: OptimizeWarning: Desired error not necessarily achieved due to precision loss.\n",
      "  res = _minimize_bfgs(fun, x0, args, jac, callback, **options)\n",
      "c:\\Users\\chinm\\anaconda3\\envs\\torch\\Lib\\site-packages\\gpjax\\dataset.py:44: UserWarning: X is not of type float64. Got X.dtype=float32. This may lead to numerical instability. \n",
      "  _check_precision(self.X, self.y)\n",
      "c:\\Users\\chinm\\anaconda3\\envs\\torch\\Lib\\site-packages\\gpjax\\dataset.py:44: UserWarning: y is not of type float64.Got y.dtype=float32. This may lead to numerical instability.\n",
      "  _check_precision(self.X, self.y)\n"
     ]
    },
    {
     "name": "stdout",
     "output_type": "stream",
     "text": [
      "         Current function value: -272.636536\n",
      "         Iterations: 14\n",
      "         Function evaluations: 93\n",
      "         Gradient evaluations: 83\n"
     ]
    },
    {
     "name": "stderr",
     "output_type": "stream",
     "text": [
      "c:\\Users\\chinm\\anaconda3\\envs\\torch\\Lib\\site-packages\\scipy\\optimize\\_minimize.py:708: OptimizeWarning: Desired error not necessarily achieved due to precision loss.\n",
      "  res = _minimize_bfgs(fun, x0, args, jac, callback, **options)\n",
      "c:\\Users\\chinm\\anaconda3\\envs\\torch\\Lib\\site-packages\\gpjax\\dataset.py:44: UserWarning: X is not of type float64. Got X.dtype=float32. This may lead to numerical instability. \n",
      "  _check_precision(self.X, self.y)\n",
      "c:\\Users\\chinm\\anaconda3\\envs\\torch\\Lib\\site-packages\\gpjax\\dataset.py:44: UserWarning: y is not of type float64.Got y.dtype=float32. This may lead to numerical instability.\n",
      "  _check_precision(self.X, self.y)\n"
     ]
    },
    {
     "name": "stdout",
     "output_type": "stream",
     "text": [
      "         Current function value: -268.869965\n",
      "         Iterations: 13\n",
      "         Function evaluations: 168\n",
      "         Gradient evaluations: 155\n",
      "Completed 65 iterations\n"
     ]
    },
    {
     "name": "stderr",
     "output_type": "stream",
     "text": [
      "c:\\Users\\chinm\\anaconda3\\envs\\torch\\Lib\\site-packages\\scipy\\optimize\\_minimize.py:708: OptimizeWarning: Desired error not necessarily achieved due to precision loss.\n",
      "  res = _minimize_bfgs(fun, x0, args, jac, callback, **options)\n",
      "c:\\Users\\chinm\\anaconda3\\envs\\torch\\Lib\\site-packages\\gpjax\\dataset.py:44: UserWarning: X is not of type float64. Got X.dtype=float32. This may lead to numerical instability. \n",
      "  _check_precision(self.X, self.y)\n",
      "c:\\Users\\chinm\\anaconda3\\envs\\torch\\Lib\\site-packages\\gpjax\\dataset.py:44: UserWarning: y is not of type float64.Got y.dtype=float32. This may lead to numerical instability.\n",
      "  _check_precision(self.X, self.y)\n"
     ]
    },
    {
     "name": "stdout",
     "output_type": "stream",
     "text": [
      "         Current function value: -268.594238\n",
      "         Iterations: 11\n",
      "         Function evaluations: 96\n",
      "         Gradient evaluations: 86\n"
     ]
    },
    {
     "name": "stderr",
     "output_type": "stream",
     "text": [
      "c:\\Users\\chinm\\anaconda3\\envs\\torch\\Lib\\site-packages\\scipy\\optimize\\_minimize.py:708: OptimizeWarning: Desired error not necessarily achieved due to precision loss.\n",
      "  res = _minimize_bfgs(fun, x0, args, jac, callback, **options)\n",
      "c:\\Users\\chinm\\anaconda3\\envs\\torch\\Lib\\site-packages\\gpjax\\dataset.py:44: UserWarning: X is not of type float64. Got X.dtype=float32. This may lead to numerical instability. \n",
      "  _check_precision(self.X, self.y)\n",
      "c:\\Users\\chinm\\anaconda3\\envs\\torch\\Lib\\site-packages\\gpjax\\dataset.py:44: UserWarning: y is not of type float64.Got y.dtype=float32. This may lead to numerical instability.\n",
      "  _check_precision(self.X, self.y)\n"
     ]
    },
    {
     "name": "stdout",
     "output_type": "stream",
     "text": [
      "         Current function value: -269.755371\n",
      "         Iterations: 13\n",
      "         Function evaluations: 148\n",
      "         Gradient evaluations: 136\n"
     ]
    },
    {
     "name": "stderr",
     "output_type": "stream",
     "text": [
      "c:\\Users\\chinm\\anaconda3\\envs\\torch\\Lib\\site-packages\\scipy\\optimize\\_minimize.py:708: OptimizeWarning: Desired error not necessarily achieved due to precision loss.\n",
      "  res = _minimize_bfgs(fun, x0, args, jac, callback, **options)\n",
      "c:\\Users\\chinm\\anaconda3\\envs\\torch\\Lib\\site-packages\\gpjax\\dataset.py:44: UserWarning: X is not of type float64. Got X.dtype=float32. This may lead to numerical instability. \n",
      "  _check_precision(self.X, self.y)\n",
      "c:\\Users\\chinm\\anaconda3\\envs\\torch\\Lib\\site-packages\\gpjax\\dataset.py:44: UserWarning: y is not of type float64.Got y.dtype=float32. This may lead to numerical instability.\n",
      "  _check_precision(self.X, self.y)\n"
     ]
    },
    {
     "name": "stdout",
     "output_type": "stream",
     "text": [
      "         Current function value: -268.850098\n",
      "         Iterations: 13\n",
      "         Function evaluations: 99\n",
      "         Gradient evaluations: 89\n"
     ]
    },
    {
     "name": "stderr",
     "output_type": "stream",
     "text": [
      "c:\\Users\\chinm\\anaconda3\\envs\\torch\\Lib\\site-packages\\scipy\\optimize\\_minimize.py:708: OptimizeWarning: Desired error not necessarily achieved due to precision loss.\n",
      "  res = _minimize_bfgs(fun, x0, args, jac, callback, **options)\n",
      "c:\\Users\\chinm\\anaconda3\\envs\\torch\\Lib\\site-packages\\gpjax\\dataset.py:44: UserWarning: X is not of type float64. Got X.dtype=float32. This may lead to numerical instability. \n",
      "  _check_precision(self.X, self.y)\n",
      "c:\\Users\\chinm\\anaconda3\\envs\\torch\\Lib\\site-packages\\gpjax\\dataset.py:44: UserWarning: y is not of type float64.Got y.dtype=float32. This may lead to numerical instability.\n",
      "  _check_precision(self.X, self.y)\n"
     ]
    },
    {
     "name": "stdout",
     "output_type": "stream",
     "text": [
      "         Current function value: -270.049286\n",
      "         Iterations: 24\n",
      "         Function evaluations: 158\n",
      "         Gradient evaluations: 149\n",
      "Completed 69 iterations\n"
     ]
    },
    {
     "name": "stderr",
     "output_type": "stream",
     "text": [
      "c:\\Users\\chinm\\anaconda3\\envs\\torch\\Lib\\site-packages\\scipy\\optimize\\_minimize.py:708: OptimizeWarning: Desired error not necessarily achieved due to precision loss.\n",
      "  res = _minimize_bfgs(fun, x0, args, jac, callback, **options)\n",
      "c:\\Users\\chinm\\anaconda3\\envs\\torch\\Lib\\site-packages\\gpjax\\dataset.py:44: UserWarning: X is not of type float64. Got X.dtype=float32. This may lead to numerical instability. \n",
      "  _check_precision(self.X, self.y)\n",
      "c:\\Users\\chinm\\anaconda3\\envs\\torch\\Lib\\site-packages\\gpjax\\dataset.py:44: UserWarning: y is not of type float64.Got y.dtype=float32. This may lead to numerical instability.\n",
      "  _check_precision(self.X, self.y)\n"
     ]
    },
    {
     "name": "stdout",
     "output_type": "stream",
     "text": [
      "         Current function value: -269.861359\n",
      "         Iterations: 14\n",
      "         Function evaluations: 110\n",
      "         Gradient evaluations: 100\n"
     ]
    },
    {
     "name": "stderr",
     "output_type": "stream",
     "text": [
      "c:\\Users\\chinm\\anaconda3\\envs\\torch\\Lib\\site-packages\\scipy\\optimize\\_minimize.py:708: OptimizeWarning: Desired error not necessarily achieved due to precision loss.\n",
      "  res = _minimize_bfgs(fun, x0, args, jac, callback, **options)\n",
      "c:\\Users\\chinm\\anaconda3\\envs\\torch\\Lib\\site-packages\\gpjax\\dataset.py:44: UserWarning: X is not of type float64. Got X.dtype=float32. This may lead to numerical instability. \n",
      "  _check_precision(self.X, self.y)\n",
      "c:\\Users\\chinm\\anaconda3\\envs\\torch\\Lib\\site-packages\\gpjax\\dataset.py:44: UserWarning: y is not of type float64.Got y.dtype=float32. This may lead to numerical instability.\n",
      "  _check_precision(self.X, self.y)\n"
     ]
    },
    {
     "name": "stdout",
     "output_type": "stream",
     "text": [
      "         Current function value: -130.706451\n",
      "         Iterations: 12\n",
      "         Function evaluations: 164\n",
      "         Gradient evaluations: 151\n"
     ]
    },
    {
     "name": "stderr",
     "output_type": "stream",
     "text": [
      "c:\\Users\\chinm\\anaconda3\\envs\\torch\\Lib\\site-packages\\scipy\\optimize\\_minimize.py:708: OptimizeWarning: Desired error not necessarily achieved due to precision loss.\n",
      "  res = _minimize_bfgs(fun, x0, args, jac, callback, **options)\n",
      "c:\\Users\\chinm\\anaconda3\\envs\\torch\\Lib\\site-packages\\gpjax\\dataset.py:44: UserWarning: X is not of type float64. Got X.dtype=float32. This may lead to numerical instability. \n",
      "  _check_precision(self.X, self.y)\n",
      "c:\\Users\\chinm\\anaconda3\\envs\\torch\\Lib\\site-packages\\gpjax\\dataset.py:44: UserWarning: y is not of type float64.Got y.dtype=float32. This may lead to numerical instability.\n",
      "  _check_precision(self.X, self.y)\n"
     ]
    },
    {
     "name": "stdout",
     "output_type": "stream",
     "text": [
      "         Current function value: -134.284409\n",
      "         Iterations: 10\n",
      "         Function evaluations: 148\n",
      "         Gradient evaluations: 133\n"
     ]
    },
    {
     "name": "stderr",
     "output_type": "stream",
     "text": [
      "c:\\Users\\chinm\\anaconda3\\envs\\torch\\Lib\\site-packages\\scipy\\optimize\\_minimize.py:708: OptimizeWarning: Desired error not necessarily achieved due to precision loss.\n",
      "  res = _minimize_bfgs(fun, x0, args, jac, callback, **options)\n",
      "c:\\Users\\chinm\\anaconda3\\envs\\torch\\Lib\\site-packages\\gpjax\\dataset.py:44: UserWarning: X is not of type float64. Got X.dtype=float32. This may lead to numerical instability. \n",
      "  _check_precision(self.X, self.y)\n",
      "c:\\Users\\chinm\\anaconda3\\envs\\torch\\Lib\\site-packages\\gpjax\\dataset.py:44: UserWarning: y is not of type float64.Got y.dtype=float32. This may lead to numerical instability.\n",
      "  _check_precision(self.X, self.y)\n"
     ]
    },
    {
     "name": "stdout",
     "output_type": "stream",
     "text": [
      "         Current function value: -268.455994\n",
      "         Iterations: 20\n",
      "         Function evaluations: 102\n",
      "         Gradient evaluations: 90\n",
      "Completed 73 iterations\n"
     ]
    },
    {
     "name": "stderr",
     "output_type": "stream",
     "text": [
      "c:\\Users\\chinm\\anaconda3\\envs\\torch\\Lib\\site-packages\\scipy\\optimize\\_minimize.py:708: OptimizeWarning: Desired error not necessarily achieved due to precision loss.\n",
      "  res = _minimize_bfgs(fun, x0, args, jac, callback, **options)\n",
      "c:\\Users\\chinm\\anaconda3\\envs\\torch\\Lib\\site-packages\\gpjax\\dataset.py:44: UserWarning: X is not of type float64. Got X.dtype=float32. This may lead to numerical instability. \n",
      "  _check_precision(self.X, self.y)\n",
      "c:\\Users\\chinm\\anaconda3\\envs\\torch\\Lib\\site-packages\\gpjax\\dataset.py:44: UserWarning: y is not of type float64.Got y.dtype=float32. This may lead to numerical instability.\n",
      "  _check_precision(self.X, self.y)\n"
     ]
    },
    {
     "name": "stdout",
     "output_type": "stream",
     "text": [
      "         Current function value: -271.527039\n",
      "         Iterations: 11\n",
      "         Function evaluations: 90\n",
      "         Gradient evaluations: 82\n"
     ]
    },
    {
     "name": "stderr",
     "output_type": "stream",
     "text": [
      "c:\\Users\\chinm\\anaconda3\\envs\\torch\\Lib\\site-packages\\scipy\\optimize\\_minimize.py:708: OptimizeWarning: Desired error not necessarily achieved due to precision loss.\n",
      "  res = _minimize_bfgs(fun, x0, args, jac, callback, **options)\n",
      "c:\\Users\\chinm\\anaconda3\\envs\\torch\\Lib\\site-packages\\gpjax\\dataset.py:44: UserWarning: X is not of type float64. Got X.dtype=float32. This may lead to numerical instability. \n",
      "  _check_precision(self.X, self.y)\n",
      "c:\\Users\\chinm\\anaconda3\\envs\\torch\\Lib\\site-packages\\gpjax\\dataset.py:44: UserWarning: y is not of type float64.Got y.dtype=float32. This may lead to numerical instability.\n",
      "  _check_precision(self.X, self.y)\n"
     ]
    },
    {
     "name": "stdout",
     "output_type": "stream",
     "text": [
      "         Current function value: -269.802002\n",
      "         Iterations: 13\n",
      "         Function evaluations: 97\n",
      "         Gradient evaluations: 85\n"
     ]
    },
    {
     "name": "stderr",
     "output_type": "stream",
     "text": [
      "c:\\Users\\chinm\\anaconda3\\envs\\torch\\Lib\\site-packages\\scipy\\optimize\\_minimize.py:708: OptimizeWarning: Desired error not necessarily achieved due to precision loss.\n",
      "  res = _minimize_bfgs(fun, x0, args, jac, callback, **options)\n",
      "c:\\Users\\chinm\\anaconda3\\envs\\torch\\Lib\\site-packages\\gpjax\\dataset.py:44: UserWarning: X is not of type float64. Got X.dtype=float32. This may lead to numerical instability. \n",
      "  _check_precision(self.X, self.y)\n",
      "c:\\Users\\chinm\\anaconda3\\envs\\torch\\Lib\\site-packages\\gpjax\\dataset.py:44: UserWarning: y is not of type float64.Got y.dtype=float32. This may lead to numerical instability.\n",
      "  _check_precision(self.X, self.y)\n"
     ]
    },
    {
     "name": "stdout",
     "output_type": "stream",
     "text": [
      "         Current function value: -268.344421\n",
      "         Iterations: 12\n",
      "         Function evaluations: 91\n",
      "         Gradient evaluations: 80\n"
     ]
    },
    {
     "name": "stderr",
     "output_type": "stream",
     "text": [
      "c:\\Users\\chinm\\anaconda3\\envs\\torch\\Lib\\site-packages\\scipy\\optimize\\_minimize.py:708: OptimizeWarning: Desired error not necessarily achieved due to precision loss.\n",
      "  res = _minimize_bfgs(fun, x0, args, jac, callback, **options)\n",
      "c:\\Users\\chinm\\anaconda3\\envs\\torch\\Lib\\site-packages\\gpjax\\dataset.py:44: UserWarning: X is not of type float64. Got X.dtype=float32. This may lead to numerical instability. \n",
      "  _check_precision(self.X, self.y)\n",
      "c:\\Users\\chinm\\anaconda3\\envs\\torch\\Lib\\site-packages\\gpjax\\dataset.py:44: UserWarning: y is not of type float64.Got y.dtype=float32. This may lead to numerical instability.\n",
      "  _check_precision(self.X, self.y)\n"
     ]
    },
    {
     "name": "stdout",
     "output_type": "stream",
     "text": [
      "         Current function value: -268.707550\n",
      "         Iterations: 13\n",
      "         Function evaluations: 95\n",
      "         Gradient evaluations: 84\n",
      "Completed 77 iterations\n"
     ]
    },
    {
     "name": "stderr",
     "output_type": "stream",
     "text": [
      "c:\\Users\\chinm\\anaconda3\\envs\\torch\\Lib\\site-packages\\scipy\\optimize\\_minimize.py:708: OptimizeWarning: Desired error not necessarily achieved due to precision loss.\n",
      "  res = _minimize_bfgs(fun, x0, args, jac, callback, **options)\n",
      "c:\\Users\\chinm\\anaconda3\\envs\\torch\\Lib\\site-packages\\gpjax\\dataset.py:44: UserWarning: X is not of type float64. Got X.dtype=float32. This may lead to numerical instability. \n",
      "  _check_precision(self.X, self.y)\n",
      "c:\\Users\\chinm\\anaconda3\\envs\\torch\\Lib\\site-packages\\gpjax\\dataset.py:44: UserWarning: y is not of type float64.Got y.dtype=float32. This may lead to numerical instability.\n",
      "  _check_precision(self.X, self.y)\n"
     ]
    },
    {
     "name": "stdout",
     "output_type": "stream",
     "text": [
      "         Current function value: -268.686615\n",
      "         Iterations: 19\n",
      "         Function evaluations: 103\n",
      "         Gradient evaluations: 91\n"
     ]
    },
    {
     "name": "stderr",
     "output_type": "stream",
     "text": [
      "c:\\Users\\chinm\\anaconda3\\envs\\torch\\Lib\\site-packages\\scipy\\optimize\\_minimize.py:708: OptimizeWarning: Desired error not necessarily achieved due to precision loss.\n",
      "  res = _minimize_bfgs(fun, x0, args, jac, callback, **options)\n",
      "c:\\Users\\chinm\\anaconda3\\envs\\torch\\Lib\\site-packages\\gpjax\\dataset.py:44: UserWarning: X is not of type float64. Got X.dtype=float32. This may lead to numerical instability. \n",
      "  _check_precision(self.X, self.y)\n",
      "c:\\Users\\chinm\\anaconda3\\envs\\torch\\Lib\\site-packages\\gpjax\\dataset.py:44: UserWarning: y is not of type float64.Got y.dtype=float32. This may lead to numerical instability.\n",
      "  _check_precision(self.X, self.y)\n"
     ]
    },
    {
     "name": "stdout",
     "output_type": "stream",
     "text": [
      "         Current function value: -269.231445\n",
      "         Iterations: 10\n",
      "         Function evaluations: 91\n",
      "         Gradient evaluations: 80\n"
     ]
    },
    {
     "name": "stderr",
     "output_type": "stream",
     "text": [
      "c:\\Users\\chinm\\anaconda3\\envs\\torch\\Lib\\site-packages\\scipy\\optimize\\_minimize.py:708: OptimizeWarning: Desired error not necessarily achieved due to precision loss.\n",
      "  res = _minimize_bfgs(fun, x0, args, jac, callback, **options)\n",
      "c:\\Users\\chinm\\anaconda3\\envs\\torch\\Lib\\site-packages\\gpjax\\dataset.py:44: UserWarning: X is not of type float64. Got X.dtype=float32. This may lead to numerical instability. \n",
      "  _check_precision(self.X, self.y)\n",
      "c:\\Users\\chinm\\anaconda3\\envs\\torch\\Lib\\site-packages\\gpjax\\dataset.py:44: UserWarning: y is not of type float64.Got y.dtype=float32. This may lead to numerical instability.\n",
      "  _check_precision(self.X, self.y)\n"
     ]
    },
    {
     "name": "stdout",
     "output_type": "stream",
     "text": [
      "         Current function value: -270.014191\n",
      "         Iterations: 12\n",
      "         Function evaluations: 145\n",
      "         Gradient evaluations: 133\n"
     ]
    },
    {
     "name": "stderr",
     "output_type": "stream",
     "text": [
      "c:\\Users\\chinm\\anaconda3\\envs\\torch\\Lib\\site-packages\\scipy\\optimize\\_minimize.py:708: OptimizeWarning: Desired error not necessarily achieved due to precision loss.\n",
      "  res = _minimize_bfgs(fun, x0, args, jac, callback, **options)\n",
      "c:\\Users\\chinm\\anaconda3\\envs\\torch\\Lib\\site-packages\\gpjax\\dataset.py:44: UserWarning: X is not of type float64. Got X.dtype=float32. This may lead to numerical instability. \n",
      "  _check_precision(self.X, self.y)\n",
      "c:\\Users\\chinm\\anaconda3\\envs\\torch\\Lib\\site-packages\\gpjax\\dataset.py:44: UserWarning: y is not of type float64.Got y.dtype=float32. This may lead to numerical instability.\n",
      "  _check_precision(self.X, self.y)\n"
     ]
    },
    {
     "name": "stdout",
     "output_type": "stream",
     "text": [
      "         Current function value: -268.372986\n",
      "         Iterations: 24\n",
      "         Function evaluations: 184\n",
      "         Gradient evaluations: 173\n",
      "Completed 81 iterations\n"
     ]
    },
    {
     "name": "stderr",
     "output_type": "stream",
     "text": [
      "c:\\Users\\chinm\\anaconda3\\envs\\torch\\Lib\\site-packages\\scipy\\optimize\\_minimize.py:708: OptimizeWarning: Desired error not necessarily achieved due to precision loss.\n",
      "  res = _minimize_bfgs(fun, x0, args, jac, callback, **options)\n",
      "c:\\Users\\chinm\\anaconda3\\envs\\torch\\Lib\\site-packages\\gpjax\\dataset.py:44: UserWarning: X is not of type float64. Got X.dtype=float32. This may lead to numerical instability. \n",
      "  _check_precision(self.X, self.y)\n",
      "c:\\Users\\chinm\\anaconda3\\envs\\torch\\Lib\\site-packages\\gpjax\\dataset.py:44: UserWarning: y is not of type float64.Got y.dtype=float32. This may lead to numerical instability.\n",
      "  _check_precision(self.X, self.y)\n"
     ]
    },
    {
     "name": "stdout",
     "output_type": "stream",
     "text": [
      "         Current function value: -268.687042\n",
      "         Iterations: 13\n",
      "         Function evaluations: 75\n",
      "         Gradient evaluations: 63\n"
     ]
    },
    {
     "name": "stderr",
     "output_type": "stream",
     "text": [
      "c:\\Users\\chinm\\anaconda3\\envs\\torch\\Lib\\site-packages\\scipy\\optimize\\_minimize.py:708: OptimizeWarning: Desired error not necessarily achieved due to precision loss.\n",
      "  res = _minimize_bfgs(fun, x0, args, jac, callback, **options)\n",
      "c:\\Users\\chinm\\anaconda3\\envs\\torch\\Lib\\site-packages\\gpjax\\dataset.py:44: UserWarning: X is not of type float64. Got X.dtype=float32. This may lead to numerical instability. \n",
      "  _check_precision(self.X, self.y)\n",
      "c:\\Users\\chinm\\anaconda3\\envs\\torch\\Lib\\site-packages\\gpjax\\dataset.py:44: UserWarning: y is not of type float64.Got y.dtype=float32. This may lead to numerical instability.\n",
      "  _check_precision(self.X, self.y)\n"
     ]
    },
    {
     "name": "stdout",
     "output_type": "stream",
     "text": [
      "         Current function value: -269.987396\n",
      "         Iterations: 13\n",
      "         Function evaluations: 115\n",
      "         Gradient evaluations: 105\n"
     ]
    },
    {
     "name": "stderr",
     "output_type": "stream",
     "text": [
      "c:\\Users\\chinm\\anaconda3\\envs\\torch\\Lib\\site-packages\\scipy\\optimize\\_minimize.py:708: OptimizeWarning: Desired error not necessarily achieved due to precision loss.\n",
      "  res = _minimize_bfgs(fun, x0, args, jac, callback, **options)\n",
      "c:\\Users\\chinm\\anaconda3\\envs\\torch\\Lib\\site-packages\\gpjax\\dataset.py:44: UserWarning: X is not of type float64. Got X.dtype=float32. This may lead to numerical instability. \n",
      "  _check_precision(self.X, self.y)\n",
      "c:\\Users\\chinm\\anaconda3\\envs\\torch\\Lib\\site-packages\\gpjax\\dataset.py:44: UserWarning: y is not of type float64.Got y.dtype=float32. This may lead to numerical instability.\n",
      "  _check_precision(self.X, self.y)\n"
     ]
    },
    {
     "name": "stdout",
     "output_type": "stream",
     "text": [
      "         Current function value: -271.213440\n",
      "         Iterations: 15\n",
      "         Function evaluations: 147\n",
      "         Gradient evaluations: 134\n"
     ]
    },
    {
     "name": "stderr",
     "output_type": "stream",
     "text": [
      "c:\\Users\\chinm\\anaconda3\\envs\\torch\\Lib\\site-packages\\scipy\\optimize\\_minimize.py:708: OptimizeWarning: Desired error not necessarily achieved due to precision loss.\n",
      "  res = _minimize_bfgs(fun, x0, args, jac, callback, **options)\n",
      "c:\\Users\\chinm\\anaconda3\\envs\\torch\\Lib\\site-packages\\gpjax\\dataset.py:44: UserWarning: X is not of type float64. Got X.dtype=float32. This may lead to numerical instability. \n",
      "  _check_precision(self.X, self.y)\n",
      "c:\\Users\\chinm\\anaconda3\\envs\\torch\\Lib\\site-packages\\gpjax\\dataset.py:44: UserWarning: y is not of type float64.Got y.dtype=float32. This may lead to numerical instability.\n",
      "  _check_precision(self.X, self.y)\n"
     ]
    },
    {
     "name": "stdout",
     "output_type": "stream",
     "text": [
      "         Current function value: -269.462372\n",
      "         Iterations: 17\n",
      "         Function evaluations: 164\n",
      "         Gradient evaluations: 152\n",
      "Completed 85 iterations\n"
     ]
    },
    {
     "name": "stderr",
     "output_type": "stream",
     "text": [
      "c:\\Users\\chinm\\anaconda3\\envs\\torch\\Lib\\site-packages\\scipy\\optimize\\_minimize.py:708: OptimizeWarning: Desired error not necessarily achieved due to precision loss.\n",
      "  res = _minimize_bfgs(fun, x0, args, jac, callback, **options)\n",
      "c:\\Users\\chinm\\anaconda3\\envs\\torch\\Lib\\site-packages\\gpjax\\dataset.py:44: UserWarning: X is not of type float64. Got X.dtype=float32. This may lead to numerical instability. \n",
      "  _check_precision(self.X, self.y)\n",
      "c:\\Users\\chinm\\anaconda3\\envs\\torch\\Lib\\site-packages\\gpjax\\dataset.py:44: UserWarning: y is not of type float64.Got y.dtype=float32. This may lead to numerical instability.\n",
      "  _check_precision(self.X, self.y)\n"
     ]
    },
    {
     "name": "stdout",
     "output_type": "stream",
     "text": [
      "         Current function value: -269.023071\n",
      "         Iterations: 15\n",
      "         Function evaluations: 97\n",
      "         Gradient evaluations: 87\n"
     ]
    },
    {
     "name": "stderr",
     "output_type": "stream",
     "text": [
      "c:\\Users\\chinm\\anaconda3\\envs\\torch\\Lib\\site-packages\\scipy\\optimize\\_minimize.py:708: OptimizeWarning: Desired error not necessarily achieved due to precision loss.\n",
      "  res = _minimize_bfgs(fun, x0, args, jac, callback, **options)\n",
      "c:\\Users\\chinm\\anaconda3\\envs\\torch\\Lib\\site-packages\\gpjax\\dataset.py:44: UserWarning: X is not of type float64. Got X.dtype=float32. This may lead to numerical instability. \n",
      "  _check_precision(self.X, self.y)\n",
      "c:\\Users\\chinm\\anaconda3\\envs\\torch\\Lib\\site-packages\\gpjax\\dataset.py:44: UserWarning: y is not of type float64.Got y.dtype=float32. This may lead to numerical instability.\n",
      "  _check_precision(self.X, self.y)\n"
     ]
    },
    {
     "name": "stdout",
     "output_type": "stream",
     "text": [
      "         Current function value: -273.652740\n",
      "         Iterations: 24\n",
      "         Function evaluations: 169\n",
      "         Gradient evaluations: 156\n"
     ]
    },
    {
     "name": "stderr",
     "output_type": "stream",
     "text": [
      "c:\\Users\\chinm\\anaconda3\\envs\\torch\\Lib\\site-packages\\scipy\\optimize\\_minimize.py:708: OptimizeWarning: Desired error not necessarily achieved due to precision loss.\n",
      "  res = _minimize_bfgs(fun, x0, args, jac, callback, **options)\n",
      "c:\\Users\\chinm\\anaconda3\\envs\\torch\\Lib\\site-packages\\gpjax\\dataset.py:44: UserWarning: X is not of type float64. Got X.dtype=float32. This may lead to numerical instability. \n",
      "  _check_precision(self.X, self.y)\n",
      "c:\\Users\\chinm\\anaconda3\\envs\\torch\\Lib\\site-packages\\gpjax\\dataset.py:44: UserWarning: y is not of type float64.Got y.dtype=float32. This may lead to numerical instability.\n",
      "  _check_precision(self.X, self.y)\n"
     ]
    },
    {
     "name": "stdout",
     "output_type": "stream",
     "text": [
      "         Current function value: -268.454803\n",
      "         Iterations: 13\n",
      "         Function evaluations: 167\n",
      "         Gradient evaluations: 155\n"
     ]
    },
    {
     "name": "stderr",
     "output_type": "stream",
     "text": [
      "c:\\Users\\chinm\\anaconda3\\envs\\torch\\Lib\\site-packages\\scipy\\optimize\\_minimize.py:708: OptimizeWarning: Desired error not necessarily achieved due to precision loss.\n",
      "  res = _minimize_bfgs(fun, x0, args, jac, callback, **options)\n",
      "c:\\Users\\chinm\\anaconda3\\envs\\torch\\Lib\\site-packages\\gpjax\\dataset.py:44: UserWarning: X is not of type float64. Got X.dtype=float32. This may lead to numerical instability. \n",
      "  _check_precision(self.X, self.y)\n",
      "c:\\Users\\chinm\\anaconda3\\envs\\torch\\Lib\\site-packages\\gpjax\\dataset.py:44: UserWarning: y is not of type float64.Got y.dtype=float32. This may lead to numerical instability.\n",
      "  _check_precision(self.X, self.y)\n"
     ]
    },
    {
     "name": "stdout",
     "output_type": "stream",
     "text": [
      "         Current function value: -268.658722\n",
      "         Iterations: 18\n",
      "         Function evaluations: 107\n",
      "         Gradient evaluations: 95\n",
      "Completed 89 iterations\n"
     ]
    },
    {
     "name": "stderr",
     "output_type": "stream",
     "text": [
      "c:\\Users\\chinm\\anaconda3\\envs\\torch\\Lib\\site-packages\\scipy\\optimize\\_minimize.py:708: OptimizeWarning: Desired error not necessarily achieved due to precision loss.\n",
      "  res = _minimize_bfgs(fun, x0, args, jac, callback, **options)\n",
      "c:\\Users\\chinm\\anaconda3\\envs\\torch\\Lib\\site-packages\\gpjax\\dataset.py:44: UserWarning: X is not of type float64. Got X.dtype=float32. This may lead to numerical instability. \n",
      "  _check_precision(self.X, self.y)\n",
      "c:\\Users\\chinm\\anaconda3\\envs\\torch\\Lib\\site-packages\\gpjax\\dataset.py:44: UserWarning: y is not of type float64.Got y.dtype=float32. This may lead to numerical instability.\n",
      "  _check_precision(self.X, self.y)\n"
     ]
    },
    {
     "name": "stdout",
     "output_type": "stream",
     "text": [
      "         Current function value: -268.482452\n",
      "         Iterations: 14\n",
      "         Function evaluations: 114\n",
      "         Gradient evaluations: 104\n"
     ]
    },
    {
     "name": "stderr",
     "output_type": "stream",
     "text": [
      "c:\\Users\\chinm\\anaconda3\\envs\\torch\\Lib\\site-packages\\scipy\\optimize\\_minimize.py:708: OptimizeWarning: Desired error not necessarily achieved due to precision loss.\n",
      "  res = _minimize_bfgs(fun, x0, args, jac, callback, **options)\n",
      "c:\\Users\\chinm\\anaconda3\\envs\\torch\\Lib\\site-packages\\gpjax\\dataset.py:44: UserWarning: X is not of type float64. Got X.dtype=float32. This may lead to numerical instability. \n",
      "  _check_precision(self.X, self.y)\n",
      "c:\\Users\\chinm\\anaconda3\\envs\\torch\\Lib\\site-packages\\gpjax\\dataset.py:44: UserWarning: y is not of type float64.Got y.dtype=float32. This may lead to numerical instability.\n",
      "  _check_precision(self.X, self.y)\n"
     ]
    },
    {
     "name": "stdout",
     "output_type": "stream",
     "text": [
      "         Current function value: -269.966492\n",
      "         Iterations: 12\n",
      "         Function evaluations: 75\n",
      "         Gradient evaluations: 64\n"
     ]
    },
    {
     "name": "stderr",
     "output_type": "stream",
     "text": [
      "c:\\Users\\chinm\\anaconda3\\envs\\torch\\Lib\\site-packages\\scipy\\optimize\\_minimize.py:708: OptimizeWarning: Desired error not necessarily achieved due to precision loss.\n",
      "  res = _minimize_bfgs(fun, x0, args, jac, callback, **options)\n",
      "c:\\Users\\chinm\\anaconda3\\envs\\torch\\Lib\\site-packages\\gpjax\\dataset.py:44: UserWarning: X is not of type float64. Got X.dtype=float32. This may lead to numerical instability. \n",
      "  _check_precision(self.X, self.y)\n",
      "c:\\Users\\chinm\\anaconda3\\envs\\torch\\Lib\\site-packages\\gpjax\\dataset.py:44: UserWarning: y is not of type float64.Got y.dtype=float32. This may lead to numerical instability.\n",
      "  _check_precision(self.X, self.y)\n"
     ]
    },
    {
     "name": "stdout",
     "output_type": "stream",
     "text": [
      "         Current function value: -268.606201\n",
      "         Iterations: 14\n",
      "         Function evaluations: 209\n",
      "         Gradient evaluations: 197\n"
     ]
    },
    {
     "name": "stderr",
     "output_type": "stream",
     "text": [
      "c:\\Users\\chinm\\anaconda3\\envs\\torch\\Lib\\site-packages\\scipy\\optimize\\_minimize.py:708: OptimizeWarning: Desired error not necessarily achieved due to precision loss.\n",
      "  res = _minimize_bfgs(fun, x0, args, jac, callback, **options)\n",
      "c:\\Users\\chinm\\anaconda3\\envs\\torch\\Lib\\site-packages\\gpjax\\dataset.py:44: UserWarning: X is not of type float64. Got X.dtype=float32. This may lead to numerical instability. \n",
      "  _check_precision(self.X, self.y)\n",
      "c:\\Users\\chinm\\anaconda3\\envs\\torch\\Lib\\site-packages\\gpjax\\dataset.py:44: UserWarning: y is not of type float64.Got y.dtype=float32. This may lead to numerical instability.\n",
      "  _check_precision(self.X, self.y)\n"
     ]
    },
    {
     "name": "stdout",
     "output_type": "stream",
     "text": [
      "         Current function value: -268.759369\n",
      "         Iterations: 12\n",
      "         Function evaluations: 101\n",
      "         Gradient evaluations: 89\n",
      "Completed 93 iterations\n"
     ]
    },
    {
     "name": "stderr",
     "output_type": "stream",
     "text": [
      "c:\\Users\\chinm\\anaconda3\\envs\\torch\\Lib\\site-packages\\scipy\\optimize\\_minimize.py:708: OptimizeWarning: Desired error not necessarily achieved due to precision loss.\n",
      "  res = _minimize_bfgs(fun, x0, args, jac, callback, **options)\n",
      "c:\\Users\\chinm\\anaconda3\\envs\\torch\\Lib\\site-packages\\gpjax\\dataset.py:44: UserWarning: X is not of type float64. Got X.dtype=float32. This may lead to numerical instability. \n",
      "  _check_precision(self.X, self.y)\n",
      "c:\\Users\\chinm\\anaconda3\\envs\\torch\\Lib\\site-packages\\gpjax\\dataset.py:44: UserWarning: y is not of type float64.Got y.dtype=float32. This may lead to numerical instability.\n",
      "  _check_precision(self.X, self.y)\n"
     ]
    },
    {
     "name": "stdout",
     "output_type": "stream",
     "text": [
      "         Current function value: -270.419464\n",
      "         Iterations: 24\n",
      "         Function evaluations: 172\n",
      "         Gradient evaluations: 157\n"
     ]
    },
    {
     "name": "stderr",
     "output_type": "stream",
     "text": [
      "c:\\Users\\chinm\\anaconda3\\envs\\torch\\Lib\\site-packages\\scipy\\optimize\\_minimize.py:708: OptimizeWarning: Desired error not necessarily achieved due to precision loss.\n",
      "  res = _minimize_bfgs(fun, x0, args, jac, callback, **options)\n",
      "c:\\Users\\chinm\\anaconda3\\envs\\torch\\Lib\\site-packages\\gpjax\\dataset.py:44: UserWarning: X is not of type float64. Got X.dtype=float32. This may lead to numerical instability. \n",
      "  _check_precision(self.X, self.y)\n",
      "c:\\Users\\chinm\\anaconda3\\envs\\torch\\Lib\\site-packages\\gpjax\\dataset.py:44: UserWarning: y is not of type float64.Got y.dtype=float32. This may lead to numerical instability.\n",
      "  _check_precision(self.X, self.y)\n"
     ]
    },
    {
     "name": "stdout",
     "output_type": "stream",
     "text": [
      "         Current function value: -268.468750\n",
      "         Iterations: 10\n",
      "         Function evaluations: 96\n",
      "         Gradient evaluations: 85\n"
     ]
    },
    {
     "name": "stderr",
     "output_type": "stream",
     "text": [
      "c:\\Users\\chinm\\anaconda3\\envs\\torch\\Lib\\site-packages\\scipy\\optimize\\_minimize.py:708: OptimizeWarning: Desired error not necessarily achieved due to precision loss.\n",
      "  res = _minimize_bfgs(fun, x0, args, jac, callback, **options)\n",
      "c:\\Users\\chinm\\anaconda3\\envs\\torch\\Lib\\site-packages\\gpjax\\dataset.py:44: UserWarning: X is not of type float64. Got X.dtype=float32. This may lead to numerical instability. \n",
      "  _check_precision(self.X, self.y)\n",
      "c:\\Users\\chinm\\anaconda3\\envs\\torch\\Lib\\site-packages\\gpjax\\dataset.py:44: UserWarning: y is not of type float64.Got y.dtype=float32. This may lead to numerical instability.\n",
      "  _check_precision(self.X, self.y)\n"
     ]
    },
    {
     "name": "stdout",
     "output_type": "stream",
     "text": [
      "         Current function value: -270.244995\n",
      "         Iterations: 13\n",
      "         Function evaluations: 125\n",
      "         Gradient evaluations: 113\n"
     ]
    },
    {
     "name": "stderr",
     "output_type": "stream",
     "text": [
      "c:\\Users\\chinm\\anaconda3\\envs\\torch\\Lib\\site-packages\\scipy\\optimize\\_minimize.py:708: OptimizeWarning: Desired error not necessarily achieved due to precision loss.\n",
      "  res = _minimize_bfgs(fun, x0, args, jac, callback, **options)\n",
      "c:\\Users\\chinm\\anaconda3\\envs\\torch\\Lib\\site-packages\\gpjax\\dataset.py:44: UserWarning: X is not of type float64. Got X.dtype=float32. This may lead to numerical instability. \n",
      "  _check_precision(self.X, self.y)\n",
      "c:\\Users\\chinm\\anaconda3\\envs\\torch\\Lib\\site-packages\\gpjax\\dataset.py:44: UserWarning: y is not of type float64.Got y.dtype=float32. This may lead to numerical instability.\n",
      "  _check_precision(self.X, self.y)\n"
     ]
    },
    {
     "name": "stdout",
     "output_type": "stream",
     "text": [
      "         Current function value: -268.557800\n",
      "         Iterations: 12\n",
      "         Function evaluations: 92\n",
      "         Gradient evaluations: 81\n",
      "Completed 97 iterations\n"
     ]
    },
    {
     "name": "stderr",
     "output_type": "stream",
     "text": [
      "c:\\Users\\chinm\\anaconda3\\envs\\torch\\Lib\\site-packages\\scipy\\optimize\\_minimize.py:708: OptimizeWarning: Desired error not necessarily achieved due to precision loss.\n",
      "  res = _minimize_bfgs(fun, x0, args, jac, callback, **options)\n",
      "c:\\Users\\chinm\\anaconda3\\envs\\torch\\Lib\\site-packages\\gpjax\\dataset.py:44: UserWarning: X is not of type float64. Got X.dtype=float32. This may lead to numerical instability. \n",
      "  _check_precision(self.X, self.y)\n",
      "c:\\Users\\chinm\\anaconda3\\envs\\torch\\Lib\\site-packages\\gpjax\\dataset.py:44: UserWarning: y is not of type float64.Got y.dtype=float32. This may lead to numerical instability.\n",
      "  _check_precision(self.X, self.y)\n"
     ]
    },
    {
     "name": "stdout",
     "output_type": "stream",
     "text": [
      "         Current function value: -268.427490\n",
      "         Iterations: 11\n",
      "         Function evaluations: 93\n",
      "         Gradient evaluations: 82\n"
     ]
    },
    {
     "name": "stderr",
     "output_type": "stream",
     "text": [
      "c:\\Users\\chinm\\anaconda3\\envs\\torch\\Lib\\site-packages\\scipy\\optimize\\_minimize.py:708: OptimizeWarning: Desired error not necessarily achieved due to precision loss.\n",
      "  res = _minimize_bfgs(fun, x0, args, jac, callback, **options)\n",
      "c:\\Users\\chinm\\anaconda3\\envs\\torch\\Lib\\site-packages\\gpjax\\dataset.py:44: UserWarning: X is not of type float64. Got X.dtype=float32. This may lead to numerical instability. \n",
      "  _check_precision(self.X, self.y)\n",
      "c:\\Users\\chinm\\anaconda3\\envs\\torch\\Lib\\site-packages\\gpjax\\dataset.py:44: UserWarning: y is not of type float64.Got y.dtype=float32. This may lead to numerical instability.\n",
      "  _check_precision(self.X, self.y)\n"
     ]
    },
    {
     "name": "stdout",
     "output_type": "stream",
     "text": [
      "         Current function value: -268.620850\n",
      "         Iterations: 13\n",
      "         Function evaluations: 157\n",
      "         Gradient evaluations: 135\n",
      "         Current function value: -268.335297\n",
      "         Iterations: 17\n",
      "         Function evaluations: 95\n",
      "         Gradient evaluations: 86\n",
      "Completed 100 iterations\n"
     ]
    },
    {
     "name": "stderr",
     "output_type": "stream",
     "text": [
      "c:\\Users\\chinm\\anaconda3\\envs\\torch\\Lib\\site-packages\\scipy\\optimize\\_minimize.py:708: OptimizeWarning: Desired error not necessarily achieved due to precision loss.\n",
      "  res = _minimize_bfgs(fun, x0, args, jac, callback, **options)\n"
     ]
    }
   ],
   "source": [
    "loo_means_tensor = []\n",
    "loo_stds_tensor = []\n",
    "\n",
    "loo_means = []\n",
    "loo_stds = []\n",
    "\n",
    "for i in range(targets.shape[0]):\n",
    "\n",
    "    # Leave out the ith training example\n",
    "    X_loo = torch.cat((output_tensor[:i], output_tensor[i+1:]))\n",
    "    y_loo = torch.cat((targets[:i], targets[i+1:]))\n",
    "\n",
    "    X_loo_jax = jnp.array(X_loo)\n",
    "    y_loo_jax = jnp.array(y_loo)\n",
    "\n",
    "    D = gpx.Dataset(X=X_loo_jax, y=y_loo_jax)\n",
    "\n",
    "    likelihood = gpx.likelihoods.Gaussian(num_datapoints=D.n)\n",
    "    posterior = prior * likelihood\n",
    "\n",
    "    negative_mll = gpx.objectives.ConjugateMLL(negative=True)\n",
    "    negative_mll(posterior, train_data=D)\n",
    "\n",
    "    negative_mll = jit(negative_mll)\n",
    "\n",
    "    opt_posterior, history = gpx.fit_scipy(\n",
    "    model=posterior,\n",
    "    objective=negative_mll,\n",
    "    train_data=D,\n",
    "    )\n",
    "\n",
    "    x_left = output_tensor[i].unsqueeze(0)\n",
    "    x_left_jax = jnp.array(x_left)\n",
    "\n",
    "    latent_dist = opt_posterior.predict(x_left_jax, train_data=D)\n",
    "    predictive_dist = opt_posterior.likelihood(latent_dist)\n",
    "\n",
    "    predictive_mean = predictive_dist.mean()\n",
    "    predictive_std = predictive_dist.stddev()\n",
    "\n",
    "    loo_means_tensor.append(predictive_mean)\n",
    "    loo_stds_tensor.append(predictive_std)\n",
    "\n",
    "    loo_means.append(predictive_mean[0])\n",
    "    loo_stds.append(predictive_std[0])\n",
    "\n",
    "    if i % 4 == 0:\n",
    "        print(f'Completed {i+1} iterations')\n",
    "\n",
    "print(f'Completed {targets.shape[0]} iterations')"
   ]
  },
  {
   "cell_type": "markdown",
   "metadata": {},
   "source": [
    "### GP LOOCV Run Time\n",
    "100-fold GP LOOCV took around 1 minute to run. This is 84 times faster than 100-fold LOOCV on the Neural Network"
   ]
  },
  {
   "cell_type": "code",
   "execution_count": 48,
   "metadata": {},
   "outputs": [],
   "source": [
    "loo_means_np = np.array(loo_means)\n",
    "loo_stds_np = np.array(loo_stds)"
   ]
  },
  {
   "cell_type": "code",
   "execution_count": 49,
   "metadata": {},
   "outputs": [
    {
     "name": "stdout",
     "output_type": "stream",
     "text": [
      "(100,)\n",
      "(100,)\n"
     ]
    }
   ],
   "source": [
    "print(loo_means_np.shape)\n",
    "print(loo_stds_np.shape)"
   ]
  },
  {
   "cell_type": "code",
   "execution_count": 81,
   "metadata": {},
   "outputs": [],
   "source": [
    "np.save('loo_means.npy', loo_means_np)\n",
    "np.save('loo_stds.npy', loo_stds_np)"
   ]
  },
  {
   "cell_type": "markdown",
   "metadata": {},
   "source": [
    "# Calculate LOO_Prob"
   ]
  },
  {
   "cell_type": "code",
   "execution_count": 61,
   "metadata": {},
   "outputs": [
    {
     "data": {
      "text/plain": [
       "(100,)"
      ]
     },
     "execution_count": 61,
     "metadata": {},
     "output_type": "execute_result"
    }
   ],
   "source": [
    "y_train = np.array(targets).reshape(-1)\n",
    "y_train.shape"
   ]
  },
  {
   "cell_type": "code",
   "execution_count": 105,
   "metadata": {},
   "outputs": [],
   "source": [
    "loo_probs = []\n",
    "\n",
    "for i in range(loo_means_np.shape[0]):\n",
    "    loo_prob = - 0.5 * np.log(loo_stds_np[i]) - (abs(y_train[i] - loo_means_np[i])) / (2 * (loo_stds_np[i] ** 2)) - 0.5 * np.log(2 * np.pi)\n",
    "    loo_probs.append(loo_prob)"
   ]
  },
  {
   "cell_type": "code",
   "execution_count": 63,
   "metadata": {},
   "outputs": [
    {
     "data": {
      "text/plain": [
       "(100,)"
      ]
     },
     "execution_count": 63,
     "metadata": {},
     "output_type": "execute_result"
    }
   ],
   "source": [
    "loo_probs = np.array(loo_probs)\n",
    "loo_probs.shape"
   ]
  },
  {
   "cell_type": "code",
   "execution_count": 72,
   "metadata": {},
   "outputs": [],
   "source": [
    "np.save('loo_probs.npy', loo_probs)"
   ]
  },
  {
   "cell_type": "markdown",
   "metadata": {},
   "source": [
    "# Plotting loo_probs vs loo_error"
   ]
  },
  {
   "cell_type": "code",
   "execution_count": 110,
   "metadata": {},
   "outputs": [
    {
     "data": {
      "image/png": "[encoded data removed]",
      "text/plain": [
       "<Figure size 640x480 with 1 Axes>"
      ]
     },
     "metadata": {},
     "output_type": "display_data"
    }
   ],
   "source": [
    "plt.scatter(loo_probs, loo_error)\n",
    "plt.xlabel('loo_probs')\n",
    "plt.ylabel('loo_error')\n",
    "plt.title('LOO Probs vs LOO Error')\n",
    "plt.show()\n"
   ]
  },
  {
   "cell_type": "code",
   "execution_count": 112,
   "metadata": {},
   "outputs": [
    {
     "data": {
      "image/png": "[encoded data removed]",
      "text/plain": [
       "<Figure size 640x480 with 1 Axes>"
      ]
     },
     "metadata": {},
     "output_type": "display_data"
    }
   ],
   "source": [
    "plt.scatter(loo_probs, loo_error)\n",
    "plt.xlim(-5,2.5)\n",
    "plt.xlabel('loo_probs')\n",
    "plt.ylabel('loo_error')\n",
    "plt.title('LOO Probs vs LOO Error')\n",
    "plt.show()"
   ]
  },
  {
   "cell_type": "code",
   "execution_count": 113,
   "metadata": {},
   "outputs": [
    {
     "name": "stdout",
     "output_type": "stream",
     "text": [
      "Spearman's rank correlation coefficient: 0.23017101710171015\n",
      "p-value: 0.021234072369726537\n"
     ]
    }
   ],
   "source": [
    "from scipy.stats import spearmanr\n",
    "\n",
    "\n",
    "# Calculate Spearman's rank correlation coefficient\n",
    "corr, p_value = spearmanr(loo_error, loo_probs)\n",
    "\n",
    "print(\"Spearman's rank correlation coefficient:\", corr)\n",
    "print(\"p-value:\", p_value)\n"
   ]
  }
 ],
 "metadata": {
  "kernelspec": {
   "display_name": "base",
   "language": "python",
   "name": "python3"
  },
  "language_info": {
   "codemirror_mode": {
    "name": "ipython",
    "version": 3
   },
   "file_extension": ".py",
   "mimetype": "text/x-python",
   "name": "python",
   "nbconvert_exporter": "python",
   "pygments_lexer": "ipython3",
   "version": "3.11.8"
  }
 },
 "nbformat": 4,
 "nbformat_minor": 2
}
